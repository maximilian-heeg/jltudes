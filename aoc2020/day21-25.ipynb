{
 "cells": [
  {
   "cell_type": "markdown",
   "id": "three-gossip",
   "metadata": {},
   "source": [
    "## Day 21"
   ]
  },
  {
   "cell_type": "code",
   "execution_count": 1,
   "id": "driven-bottom",
   "metadata": {},
   "outputs": [
    {
     "data": {
      "text/plain": [
       "read21 (generic function with 1 method)"
      ]
     },
     "execution_count": 1,
     "metadata": {},
     "output_type": "execute_result"
    }
   ],
   "source": [
    "using BenchmarkTools\n",
    "function read21()\n",
    "    lines = split(strip(read(joinpath(@__DIR__, \"./input/day21.txt\"), String)), '\\n')\n",
    "    ingredients= getproperty.(match.(r\"(.*?) \\(contains (.*)\\)\", lines), :captures)\n",
    "    ingredients = map(lines) do l\n",
    "        m = match(r\"(.*?) \\(contains (.*)\\)\",l)\n",
    "        split(m[1], \" \")\n",
    "    end\n",
    "    allergens = map(lines) do l\n",
    "        m = match(r\"(.*?) \\(contains (.*)\\)\",l)\n",
    "        split(m[2], \", \")\n",
    "    end\n",
    "    return ingredients, allergens\n",
    "end"
   ]
  },
  {
   "cell_type": "code",
   "execution_count": 2,
   "id": "imported-architect",
   "metadata": {},
   "outputs": [
    {
     "data": {
      "text/plain": [
       "day21_part1 (generic function with 2 methods)"
      ]
     },
     "execution_count": 2,
     "metadata": {},
     "output_type": "execute_result"
    }
   ],
   "source": [
    "function day21_part1(data = read21())\n",
    "   ingredients, allergens = data\n",
    "   all_allergens = unique(vcat(allergens...))\n",
    "   d = Dict()\n",
    "   while length(d) != length(all_allergens) \n",
    "        # loop through all allergens that have not been identified\n",
    "       for allergen in setdiff(all_allergens, keys(d))\n",
    "            overlap = intersect(ingredients[allergen .∈ allergens]...)\n",
    "            if length(overlap) ==  1 \n",
    "                d[allergen] = overlap  # save\n",
    "                # remove from ingredients\n",
    "                ingredients = setdiff.(ingredients, [overlap])\n",
    "            end\n",
    "       end\n",
    "    end\n",
    "        \n",
    "    # part2\n",
    "    order = sortperm(vcat(keys(d)...))\n",
    "    return length(vcat(ingredients...)),  join(vcat(values(d)...)[order],\",\")\n",
    "end"
   ]
  },
  {
   "cell_type": "code",
   "execution_count": 3,
   "id": "chief-teens",
   "metadata": {},
   "outputs": [
    {
     "name": "stdout",
     "output_type": "stream",
     "text": [
      "  3.173 ms (7738 allocations: 3.61 MiB)\n"
     ]
    },
    {
     "data": {
      "text/plain": [
       "(2061, \"cdqvp,dglm,zhqjs,rbpg,xvtrfz,tgmzqjz,mfqgx,rffqhl\")"
      ]
     },
     "execution_count": 3,
     "metadata": {},
     "output_type": "execute_result"
    }
   ],
   "source": [
    "@btime day21_part1()"
   ]
  },
  {
   "cell_type": "markdown",
   "id": "distinct-carrier",
   "metadata": {},
   "source": [
    "## Day 22"
   ]
  },
  {
   "cell_type": "code",
   "execution_count": 4,
   "id": "blind-engineer",
   "metadata": {},
   "outputs": [
    {
     "data": {
      "text/plain": [
       "read22 (generic function with 1 method)"
      ]
     },
     "execution_count": 4,
     "metadata": {},
     "output_type": "execute_result"
    }
   ],
   "source": [
    "using BenchmarkTools\n",
    "function read22()\n",
    "    decks = split(strip(read(joinpath(@__DIR__, \"./input/day22.txt\"), String)), \"\\n\\n\")\n",
    "    p1 = parse.(Int, split(decks[1], \"\\n\")[2:end])\n",
    "    p2 = parse.(Int, split(decks[2], \"\\n\")[2:end])\n",
    "    return p1, p2\n",
    "end"
   ]
  },
  {
   "cell_type": "code",
   "execution_count": 5,
   "id": "trying-stocks",
   "metadata": {},
   "outputs": [
    {
     "data": {
      "text/plain": [
       "play_round (generic function with 1 method)"
      ]
     },
     "execution_count": 5,
     "metadata": {},
     "output_type": "execute_result"
    }
   ],
   "source": [
    "function day22_part1(data=read22())\n",
    "   p1, p2 = data\n",
    "   \n",
    "   while length(p1) > 0 && length(p2) > 0\n",
    "        p1, p2 = play_round(p1, p2)\n",
    "    end\n",
    "    winner = length(p1) > 0 ? p1 : p2\n",
    "    \n",
    "    return sum(winner .* collect(length(winner):-1:1))\n",
    "end\n",
    "\n",
    "function play_round(p1, p2)\n",
    "   if p1[1] > p2[1]\n",
    "        # p1 wins\n",
    "        p1 = vcat(p1[2:end], p1[1], p2[1])\n",
    "        p2 = p2[2:end]\n",
    "    elseif p1[1] < p2[1]\n",
    "        # p2 wins\n",
    "        p2 = vcat(p2[2:end], p2[1], p1[1])\n",
    "        p1 = p1[2:end]\n",
    "    end\n",
    "    return p1, p2\n",
    "end"
   ]
  },
  {
   "cell_type": "code",
   "execution_count": 6,
   "id": "behavioral-output",
   "metadata": {},
   "outputs": [
    {
     "name": "stdout",
     "output_type": "stream",
     "text": [
      "  565.721 μs (7981 allocations: 561.38 KiB)\n"
     ]
    },
    {
     "data": {
      "text/plain": [
       "33631"
      ]
     },
     "execution_count": 6,
     "metadata": {},
     "output_type": "execute_result"
    }
   ],
   "source": [
    "@btime day22_part1()"
   ]
  },
  {
   "cell_type": "code",
   "execution_count": 7,
   "id": "swiss-wallpaper",
   "metadata": {},
   "outputs": [
    {
     "data": {
      "text/plain": [
       "play_game (generic function with 1 method)"
      ]
     },
     "execution_count": 7,
     "metadata": {},
     "output_type": "execute_result"
    }
   ],
   "source": [
    "function day22_part2(data = read22())\n",
    "    p1, p2 = data\n",
    "    \n",
    "    w, p = play_game(p1, p2)\n",
    "    \n",
    "    return sum(p .* collect(length(p):-1:1))\n",
    "end\n",
    "\n",
    "function play_game(p1, p2)\n",
    "    seen = Set{Tuple{Array,Array}}([])\n",
    "    \n",
    "    while length(p1) > 0 && length(p2) > 0\n",
    "        (p1, p2) ∈ seen && return 1, p1  # infinite-game-prevention rule\n",
    "        push!(seen, copy.((p1, p2)))\n",
    "        \n",
    "        c1, c2 = popfirst!.((p1, p2))\n",
    "        \n",
    "        if c1 <= length(p1) && c2 <= length(p2)\n",
    "            #play subgame\n",
    "            w, _  = play_game(p1[1:c1], p2[1:c2])\n",
    "        elseif c1 > c2 w = 1\n",
    "        elseif c2 > c1 w = 2\n",
    "        else @error \"Unexpected case: c₁ == c₂\" end\n",
    "        \n",
    "        w == 1 && push!(p1, c1, c2)\n",
    "        w == 2 && push!(p2, c2, c1)\n",
    "        \n",
    "        \n",
    "    end\n",
    "    \n",
    "    return  length(p1) > 0 ? (1, p1) : (2, p2)\n",
    "end"
   ]
  },
  {
   "cell_type": "code",
   "execution_count": 8,
   "id": "afraid-sentence",
   "metadata": {},
   "outputs": [
    {
     "name": "stdout",
     "output_type": "stream",
     "text": [
      "  3.056 s (11505409 allocations: 1.00 GiB)\n"
     ]
    },
    {
     "data": {
      "text/plain": [
       "33469"
      ]
     },
     "execution_count": 8,
     "metadata": {},
     "output_type": "execute_result"
    }
   ],
   "source": [
    "@btime day22_part2()"
   ]
  },
  {
   "cell_type": "markdown",
   "id": "extreme-variety",
   "metadata": {},
   "source": [
    "## Day 23"
   ]
  },
  {
   "cell_type": "code",
   "execution_count": 9,
   "id": "crucial-cedar",
   "metadata": {},
   "outputs": [
    {
     "data": {
      "text/plain": [
       "#8 (generic function with 2 methods)"
      ]
     },
     "execution_count": 9,
     "metadata": {},
     "output_type": "execute_result"
    }
   ],
   "source": [
    "using BenchmarkTools\n",
    "read23 = function(data=\"156794823\")\n",
    "   parse.(Int,split(data, \"\") )\n",
    "end"
   ]
  },
  {
   "cell_type": "code",
   "execution_count": 10,
   "id": "caring-group",
   "metadata": {},
   "outputs": [
    {
     "data": {
      "text/plain": [
       "crabcups (generic function with 1 method)"
      ]
     },
     "execution_count": 10,
     "metadata": {},
     "output_type": "execute_result"
    }
   ],
   "source": [
    "function day23_part1(data=read23())\n",
    "    data = crabcups(data)\n",
    "    \n",
    "    # find 1 \n",
    "    pos = findfirst(x->x==1, data)\n",
    "    data = circshift(data, 1-pos)\n",
    "    return join(data[2:end])\n",
    "end\n",
    "\n",
    "function crabcups(data::Array{Int64,1}; steps=100)\n",
    "    size = length(data)\n",
    "    \n",
    "    pop = similar(data, 3)\n",
    "    \n",
    "    \n",
    "    for i in 1:steps\n",
    "        current = data[1]\n",
    "        pop = data[2:4]\n",
    "        #data = data[[1, 5:end...]]\n",
    "\n",
    "        dest = mod1(current-1, size)\n",
    "        while dest in pop\n",
    "            dest = mod1(dest-1, size)\n",
    "        end\n",
    "\n",
    "        dest_pos=findfirst(x->x==dest, data)\n",
    "        data = data[[1, 5:dest_pos..., 2:4..., dest_pos+1:end...]]\n",
    "        data = circshift(data, -1)\n",
    "    end  \n",
    "    return data\n",
    "end"
   ]
  },
  {
   "cell_type": "code",
   "execution_count": 11,
   "id": "exposed-disease",
   "metadata": {},
   "outputs": [
    {
     "name": "stdout",
     "output_type": "stream",
     "text": [
      "  78.223 μs (1548 allocations: 94.16 KiB)\n"
     ]
    },
    {
     "data": {
      "text/plain": [
       "\"82573496\""
      ]
     },
     "execution_count": 11,
     "metadata": {},
     "output_type": "execute_result"
    }
   ],
   "source": [
    "@btime day23_part1()"
   ]
  },
  {
   "cell_type": "code",
   "execution_count": 12,
   "id": "governmental-soccer",
   "metadata": {},
   "outputs": [
    {
     "data": {
      "text/plain": [
       "crabcups2 (generic function with 1 method)"
      ]
     },
     "execution_count": 12,
     "metadata": {},
     "output_type": "execute_result"
    }
   ],
   "source": [
    "function mypeek(next, at, n; result=similar(next,n))\n",
    "    for i in 1:n\n",
    "        result[i] = next[at]\n",
    "        at = next[at]\n",
    "    end\n",
    "    result\n",
    "end\n",
    "\n",
    "# https://blog.kdheepak.com/advent-of-code-2020-retrospective.html#day-23-crab-cups\n",
    "function crabcups2(cups; steps=100)\n",
    "    N = length(cups)\n",
    "    prealloc = similar(cups, 3)\n",
    "\n",
    "    next = similar(cups)\n",
    "    for i in 1:N\n",
    "        next[cups[i]] = cups[mod1(i+1,N)]\n",
    "    end\n",
    "\n",
    "    current = cups[1]\n",
    "    for i in 1:steps\n",
    "\n",
    "        pickups = mypeek(next, current, 3, result=prealloc)\n",
    "\n",
    "        dst = mod1(current-1, N)\n",
    "        while dst in pickups\n",
    "          dst = mod1(dst-1, N)\n",
    "        end\n",
    "\n",
    "        next[current] = next[pickups[end]]  ## das nächste nach current wird das nächste nach dem ende von pickup\n",
    "        next[pickups[end]] = next[dst] # das nächste nach dem ende von pickup wird das ende nach dem ziel\n",
    "        next[dst] = pickups[1] # nach dem ziel kommt der anfang von pickup\n",
    "        current = next[current] #eine position weiter\n",
    "           \n",
    "    end\n",
    "\n",
    "    return next\n",
    "end"
   ]
  },
  {
   "cell_type": "code",
   "execution_count": 13,
   "id": "correct-sender",
   "metadata": {},
   "outputs": [
    {
     "data": {
      "text/plain": [
       "day23_part2 (generic function with 2 methods)"
      ]
     },
     "execution_count": 13,
     "metadata": {},
     "output_type": "execute_result"
    }
   ],
   "source": [
    "function day23_part1b(data=read23())\n",
    "    data = crabcups2(data, steps=100)\n",
    "    return join(mypeek(data, 1, 8))\n",
    "end\n",
    "\n",
    "function day23_part2(data=read23())\n",
    "    \n",
    "    data = vcat(data, [10:1000000]...)\n",
    "    \n",
    "    data = crabcups2(data, steps=10000000)\n",
    "    \n",
    "    \n",
    "    return prod(mypeek(data, 1, 2))\n",
    "end"
   ]
  },
  {
   "cell_type": "code",
   "execution_count": 14,
   "id": "mighty-going",
   "metadata": {},
   "outputs": [
    {
     "name": "stdout",
     "output_type": "stream",
     "text": [
      "  680.180 ms (40 allocations: 15.26 MiB)\n"
     ]
    },
    {
     "data": {
      "text/plain": [
       "11498506800"
      ]
     },
     "execution_count": 14,
     "metadata": {},
     "output_type": "execute_result"
    }
   ],
   "source": [
    "@btime day23_part2()"
   ]
  },
  {
   "cell_type": "code",
   "execution_count": 15,
   "id": "female-genius",
   "metadata": {},
   "outputs": [
    {
     "name": "stdout",
     "output_type": "stream",
     "text": [
      "  2.476 μs (48 allocations: 3.53 KiB)\n"
     ]
    },
    {
     "data": {
      "text/plain": [
       "\"82573496\""
      ]
     },
     "execution_count": 15,
     "metadata": {},
     "output_type": "execute_result"
    }
   ],
   "source": [
    "@btime day23_part1b()"
   ]
  },
  {
   "cell_type": "markdown",
   "id": "balanced-syndicate",
   "metadata": {},
   "source": [
    "## Day 24"
   ]
  },
  {
   "cell_type": "code",
   "execution_count": 16,
   "id": "conservative-washington",
   "metadata": {},
   "outputs": [
    {
     "data": {
      "text/plain": [
       "read24 (generic function with 1 method)"
      ]
     },
     "execution_count": 16,
     "metadata": {},
     "output_type": "execute_result"
    }
   ],
   "source": [
    "using BenchmarkTools\n",
    "function read24()\n",
    "   return split(strip(read(joinpath(@__DIR__, \"./input/day24.txt\"), String)), \"\\n\")\n",
    "end"
   ]
  },
  {
   "cell_type": "code",
   "execution_count": 17,
   "id": "raised-girlfriend",
   "metadata": {},
   "outputs": [
    {
     "data": {
      "text/plain": [
       "hex_grid_pos (generic function with 1 method)"
      ]
     },
     "execution_count": 17,
     "metadata": {},
     "output_type": "execute_result"
    }
   ],
   "source": [
    "function hex_grid_pos(move)\n",
    "   x = 0\n",
    "   y = 0\n",
    "   while(!isempty(move))\n",
    "    if startswith(move, \"e\")\n",
    "        x = x -2\n",
    "        move = move[2:end]\n",
    "    elseif startswith(move, \"w\")\n",
    "        x = x +2\n",
    "        move = move[2:end]\n",
    "    elseif startswith(move, \"ne\")\n",
    "        x = x -1\n",
    "        y = y+1\n",
    "        move = move[3:end]\n",
    "    elseif startswith(move, \"nw\")\n",
    "        x = x +1\n",
    "        y = y+1\n",
    "        move = move[3:end]\n",
    "    elseif startswith(move, \"se\")\n",
    "        x = x -1\n",
    "        y = y-1\n",
    "        move = move[3:end]\n",
    "    elseif startswith(move, \"sw\")\n",
    "        x = x +1\n",
    "        y = y-1\n",
    "        move = move[3:end]\n",
    "     end\n",
    "   end\n",
    "    return x,y\n",
    "        \n",
    "end"
   ]
  },
  {
   "cell_type": "code",
   "execution_count": 18,
   "id": "changing-junction",
   "metadata": {},
   "outputs": [
    {
     "data": {
      "text/plain": [
       "day24_part1 (generic function with 2 methods)"
      ]
     },
     "execution_count": 18,
     "metadata": {},
     "output_type": "execute_result"
    }
   ],
   "source": [
    "function day24_part1(data=read24())\n",
    "   tiles = []\n",
    "    \n",
    "    for move in data\n",
    "       x,y =  hex_grid_pos(move)\n",
    "        if [x,y] in tiles\n",
    "           setdiff!(tiles, [[x,y]])\n",
    "        else\n",
    "           append!(tiles, [[x,y]])\n",
    "        end\n",
    "    end\n",
    "    return tiles\n",
    "end"
   ]
  },
  {
   "cell_type": "code",
   "execution_count": 19,
   "id": "missing-vanilla",
   "metadata": {},
   "outputs": [
    {
     "name": "stdout",
     "output_type": "stream",
     "text": [
      "  3.490 ms (15727 allocations: 646.91 KiB)\n"
     ]
    },
    {
     "data": {
      "text/plain": [
       "263"
      ]
     },
     "execution_count": 19,
     "metadata": {},
     "output_type": "execute_result"
    }
   ],
   "source": [
    "@btime length(day24_part1())"
   ]
  },
  {
   "cell_type": "code",
   "execution_count": 20,
   "id": "ongoing-portrait",
   "metadata": {},
   "outputs": [
    {
     "data": {
      "text/plain": [
       "black_neighbors (generic function with 1 method)"
      ]
     },
     "execution_count": 20,
     "metadata": {},
     "output_type": "execute_result"
    }
   ],
   "source": [
    "function day24_part2()\n",
    "   tiles = day24_part1()\n",
    "    \n",
    "   for i in 1:100\n",
    "        neighbors = black_neighbors(tiles)\n",
    "        new_tiles = []\n",
    "        for (pos, n) in neighbors\n",
    "           if pos in tiles  ## currently black\n",
    "               if 1 <= n <= 2\n",
    "                    append!(new_tiles, [pos])\n",
    "                    ## keep black\n",
    "                end\n",
    "            else  # currently white\n",
    "               if n == 2 \n",
    "                   append!(new_tiles, [pos]) \n",
    "               end\n",
    "            end\n",
    "        end\n",
    "        tiles = new_tiles\n",
    "    end\n",
    "    \n",
    "    return length(tiles)\n",
    "end\n",
    "\n",
    "\n",
    "function black_neighbors(tiles)\n",
    "   n = Dict()\n",
    "    directions = [[-2,0], [2,0], [-1,1], [1,1], [-1,-1], [1,-1]]\n",
    "   for pos in tiles\n",
    "        for d in directions\n",
    "            if haskey(n, pos+d)\n",
    "                n[pos+d] =  n[pos+d]+1\n",
    "            else\n",
    "                n[pos+d] = 1\n",
    "            end\n",
    "        end\n",
    "   end\n",
    "    return n\n",
    "end"
   ]
  },
  {
   "cell_type": "code",
   "execution_count": 21,
   "id": "blank-stomach",
   "metadata": {},
   "outputs": [
    {
     "name": "stdout",
     "output_type": "stream",
     "text": [
      "  20.326 s (2951218 allocations: 262.65 MiB)\n"
     ]
    },
    {
     "data": {
      "text/plain": [
       "3649"
      ]
     },
     "execution_count": 21,
     "metadata": {},
     "output_type": "execute_result"
    }
   ],
   "source": [
    "@btime day24_part2()"
   ]
  },
  {
   "cell_type": "markdown",
   "id": "wooden-mumbai",
   "metadata": {},
   "source": [
    "## Day 25"
   ]
  },
  {
   "cell_type": "code",
   "execution_count": 22,
   "id": "incoming-silence",
   "metadata": {},
   "outputs": [
    {
     "data": {
      "text/plain": [
       "read25 (generic function with 1 method)"
      ]
     },
     "execution_count": 22,
     "metadata": {},
     "output_type": "execute_result"
    }
   ],
   "source": [
    "function read25()\n",
    "    return parse.(Int, split(strip(read(joinpath(@__DIR__, \"./input/day25.txt\"), String)), \"\\n\"))\n",
    "end"
   ]
  },
  {
   "cell_type": "code",
   "execution_count": 23,
   "id": "bright-assumption",
   "metadata": {},
   "outputs": [
    {
     "data": {
      "text/plain": [
       "day25_part1 (generic function with 2 methods)"
      ]
     },
     "execution_count": 23,
     "metadata": {},
     "output_type": "execute_result"
    }
   ],
   "source": [
    "function day25_part1(data=read25())\n",
    "    public_door, public_card = data[1], data[2]\n",
    "    \n",
    "    display(\"Pub door: $public_door, card: $public_card\")\n",
    "    \n",
    "    loop_door = 0\n",
    "    while powermod(7, loop_door, 20201227) != public_door\n",
    "       loop_door += 1\n",
    "    end\n",
    "    \n",
    "    loop_card = 0\n",
    "    while powermod(7, loop_card, 20201227) != public_card\n",
    "       loop_card += 1\n",
    "    end\n",
    "   \n",
    "    display(\"loop door $loop_door, card $loop_card\")\n",
    "    \n",
    "    return powermod(public_door, loop_card, 20201227), powermod(public_card, loop_door, 20201227)\n",
    "   \n",
    "end"
   ]
  },
  {
   "cell_type": "code",
   "execution_count": 24,
   "id": "invalid-bobby",
   "metadata": {},
   "outputs": [
    {
     "data": {
      "text/plain": [
       "\"Pub door: 2084668, card: 3704642\""
      ]
     },
     "metadata": {},
     "output_type": "display_data"
    },
    {
     "data": {
      "text/plain": [
       "\"loop door 12419160, card 2115361\""
      ]
     },
     "metadata": {},
     "output_type": "display_data"
    },
    {
     "data": {
      "text/plain": [
       "\"Pub door: 2084668, card: 3704642\""
      ]
     },
     "metadata": {},
     "output_type": "display_data"
    },
    {
     "data": {
      "text/plain": [
       "\"loop door 12419160, card 2115361\""
      ]
     },
     "metadata": {},
     "output_type": "display_data"
    },
    {
     "data": {
      "text/plain": [
       "\"Pub door: 2084668, card: 3704642\""
      ]
     },
     "metadata": {},
     "output_type": "display_data"
    },
    {
     "data": {
      "text/plain": [
       "\"loop door 12419160, card 2115361\""
      ]
     },
     "metadata": {},
     "output_type": "display_data"
    },
    {
     "data": {
      "text/plain": [
       "\"Pub door: 2084668, card: 3704642\""
      ]
     },
     "metadata": {},
     "output_type": "display_data"
    },
    {
     "data": {
      "text/plain": [
       "\"loop door 12419160, card 2115361\""
      ]
     },
     "metadata": {},
     "output_type": "display_data"
    },
    {
     "data": {
      "text/plain": [
       "\"Pub door: 2084668, card: 3704642\""
      ]
     },
     "metadata": {},
     "output_type": "display_data"
    },
    {
     "data": {
      "text/plain": [
       "\"loop door 12419160, card 2115361\""
      ]
     },
     "metadata": {},
     "output_type": "display_data"
    },
    {
     "data": {
      "text/plain": [
       "\"Pub door: 2084668, card: 3704642\""
      ]
     },
     "metadata": {},
     "output_type": "display_data"
    },
    {
     "data": {
      "text/plain": [
       "\"loop door 12419160, card 2115361\""
      ]
     },
     "metadata": {},
     "output_type": "display_data"
    },
    {
     "data": {
      "text/plain": [
       "\"Pub door: 2084668, card: 3704642\""
      ]
     },
     "metadata": {},
     "output_type": "display_data"
    },
    {
     "data": {
      "text/plain": [
       "\"loop door 12419160, card 2115361\""
      ]
     },
     "metadata": {},
     "output_type": "display_data"
    },
    {
     "name": "stdout",
     "output_type": "stream",
     "text": [
      "  4.485 s (371 allocations: 28.58 KiB)\n"
     ]
    },
    {
     "data": {
      "text/plain": [
       "(42668, 42668)"
      ]
     },
     "execution_count": 24,
     "metadata": {},
     "output_type": "execute_result"
    }
   ],
   "source": [
    "@btime day25_part1()"
   ]
  },
  {
   "cell_type": "code",
   "execution_count": null,
   "id": "committed-income",
   "metadata": {},
   "outputs": [],
   "source": []
  }
 ],
 "metadata": {
  "kernelspec": {
   "display_name": "Julia 1.5.3",
   "language": "julia",
   "name": "julia-1.5"
  },
  "language_info": {
   "file_extension": ".jl",
   "mimetype": "application/julia",
   "name": "julia",
   "version": "1.5.3"
  }
 },
 "nbformat": 4,
 "nbformat_minor": 5
}
