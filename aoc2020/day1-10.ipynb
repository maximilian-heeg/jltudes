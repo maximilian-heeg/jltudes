{
 "cells": [
  {
   "cell_type": "markdown",
   "id": "mechanical-aluminum",
   "metadata": {},
   "source": [
    "# Advent of code"
   ]
  },
  {
   "cell_type": "code",
   "execution_count": 1,
   "id": "accomplished-lightweight",
   "metadata": {},
   "outputs": [],
   "source": [
    "#using Pkg\n",
    "#Pkg.add(\"DataFrames\")\n",
    "using DataFrames"
   ]
  },
  {
   "cell_type": "code",
   "execution_count": 2,
   "id": "baking-modem",
   "metadata": {},
   "outputs": [
    {
     "data": {
      "text/plain": [
       "read_array (generic function with 1 method)"
      ]
     },
     "execution_count": 2,
     "metadata": {},
     "output_type": "execute_result"
    }
   ],
   "source": [
    "function read_array(day; ncol::Int=1, sep=isspace)\n",
    "    i = split(strip(read(joinpath(@__DIR__, \"./input/day$day.txt\"), String)), sep)\n",
    "    i = reshape(i, ncol, :)\n",
    "    return permutedims(i)\n",
    "end"
   ]
  },
  {
   "cell_type": "markdown",
   "id": "chemical-relay",
   "metadata": {},
   "source": [
    "## Day 1"
   ]
  },
  {
   "cell_type": "code",
   "execution_count": 3,
   "id": "technical-elizabeth",
   "metadata": {},
   "outputs": [
    {
     "data": {
      "text/plain": [
       "sum_of_two (generic function with 1 method)"
      ]
     },
     "execution_count": 3,
     "metadata": {},
     "output_type": "execute_result"
    }
   ],
   "source": [
    "function sum_of_two(a, sum)\n",
    "    for i in 1:length(a)\n",
    "        for j in i+1:length(a)\n",
    "            if a[i] + a[j] == sum\n",
    "                return a[i] , a[j]\n",
    "            end\n",
    "        end\n",
    "    end\n",
    "end"
   ]
  },
  {
   "cell_type": "code",
   "execution_count": 4,
   "id": "boxed-solomon",
   "metadata": {},
   "outputs": [
    {
     "data": {
      "text/plain": [
       "(1314, 706)"
      ]
     },
     "execution_count": 4,
     "metadata": {},
     "output_type": "execute_result"
    }
   ],
   "source": [
    "a, b = sum_of_two(parse.(Int,read_array(1)), 2020)"
   ]
  },
  {
   "cell_type": "code",
   "execution_count": 5,
   "id": "visible-fitness",
   "metadata": {},
   "outputs": [
    {
     "data": {
      "text/plain": [
       "927684"
      ]
     },
     "execution_count": 5,
     "metadata": {},
     "output_type": "execute_result"
    }
   ],
   "source": [
    "a*b"
   ]
  },
  {
   "cell_type": "code",
   "execution_count": 6,
   "id": "surprised-strike",
   "metadata": {},
   "outputs": [
    {
     "data": {
      "text/plain": [
       "sum_of_three (generic function with 1 method)"
      ]
     },
     "execution_count": 6,
     "metadata": {},
     "output_type": "execute_result"
    }
   ],
   "source": [
    "function sum_of_three(a, sum)\n",
    "    for i in 1:length(a)\n",
    "        for j in i+1:length(a)\n",
    "            for k in j+1:length(a)\n",
    "                if a[i] + a[j] + a[k]  == 2020\n",
    "                    return a[i] , a[j], a[k]\n",
    "                end\n",
    "            end\n",
    "        end\n",
    "    end\n",
    "end"
   ]
  },
  {
   "cell_type": "code",
   "execution_count": 7,
   "id": "qualified-microwave",
   "metadata": {},
   "outputs": [
    {
     "data": {
      "text/plain": [
       "(811, 532, 677)"
      ]
     },
     "execution_count": 7,
     "metadata": {},
     "output_type": "execute_result"
    }
   ],
   "source": [
    "a,b,c = sum_of_three(parse.(Int,read_array(1)), 2020)"
   ]
  },
  {
   "cell_type": "code",
   "execution_count": 8,
   "id": "atomic-control",
   "metadata": {},
   "outputs": [
    {
     "data": {
      "text/plain": [
       "292093004"
      ]
     },
     "execution_count": 8,
     "metadata": {},
     "output_type": "execute_result"
    }
   ],
   "source": [
    "a*b*c"
   ]
  },
  {
   "cell_type": "markdown",
   "id": "other-wisdom",
   "metadata": {},
   "source": [
    "## Day 2"
   ]
  },
  {
   "cell_type": "code",
   "execution_count": 9,
   "id": "egyptian-compact",
   "metadata": {},
   "outputs": [
    {
     "data": {
      "text/plain": [
       "valid_password (generic function with 1 method)"
      ]
     },
     "execution_count": 9,
     "metadata": {},
     "output_type": "execute_result"
    }
   ],
   "source": [
    "function valid_password(a)\n",
    "   valid = 0\n",
    "    # replace all \":\"\n",
    "    a[:,2] = replace.(a[:,2], \":\"=>\"\")\n",
    "    \n",
    "  \n",
    "    \n",
    "    for i in 1:size(a)[1]\n",
    "        row = a[i,:]\n",
    "        pattern = \"[\" * row[2] * \"]\"\n",
    "        pattern = Regex(pattern)\n",
    "        count = length(collect(eachmatch(pattern, row[3])))\n",
    "        min, max = parse.(Int,split(row[1], \"-\"))\n",
    "        if count >= min && count <= max\n",
    "            valid = valid + 1\n",
    "        end\n",
    "    end\n",
    "    return valid\n",
    "end"
   ]
  },
  {
   "cell_type": "code",
   "execution_count": 10,
   "id": "prescription-mineral",
   "metadata": {},
   "outputs": [
    {
     "data": {
      "text/plain": [
       "393"
      ]
     },
     "execution_count": 10,
     "metadata": {},
     "output_type": "execute_result"
    }
   ],
   "source": [
    "valid_password(read_array(2, ncol=3))"
   ]
  },
  {
   "cell_type": "code",
   "execution_count": 11,
   "id": "crude-recycling",
   "metadata": {},
   "outputs": [
    {
     "data": {
      "text/plain": [
       "valid_password_2 (generic function with 1 method)"
      ]
     },
     "execution_count": 11,
     "metadata": {},
     "output_type": "execute_result"
    }
   ],
   "source": [
    "function valid_password_2(a)\n",
    "   valid = 0\n",
    "    # replace all \":\"\n",
    "    a[:,2] = replace.(a[:,2], \":\"=>\"\")\n",
    "    \n",
    "    for i in 1:size(a)[1]\n",
    "        row = a[i,:]\n",
    "        # get positions\n",
    "        p1, p2 = parse.(Int,split(row[1], \"-\"))\n",
    "        \n",
    "        # compar chars (therefore subset with [1] or [p1])\n",
    "        if (row[3][p1] == row[2][1]) ⊻ (row[3][p2] == row[2][1])\n",
    "            valid = valid + 1\n",
    "        end\n",
    "    end\n",
    "    return valid\n",
    "end"
   ]
  },
  {
   "cell_type": "code",
   "execution_count": 12,
   "id": "friendly-tourist",
   "metadata": {},
   "outputs": [
    {
     "data": {
      "text/plain": [
       "690"
      ]
     },
     "execution_count": 12,
     "metadata": {},
     "output_type": "execute_result"
    }
   ],
   "source": [
    "valid_password_2(read_array(2, ncol=3))"
   ]
  },
  {
   "cell_type": "markdown",
   "id": "understood-lesson",
   "metadata": {},
   "source": [
    "## Day 3"
   ]
  },
  {
   "cell_type": "code",
   "execution_count": 13,
   "id": "tight-campaign",
   "metadata": {},
   "outputs": [
    {
     "data": {
      "text/plain": [
       "forest_walk (generic function with 1 method)"
      ]
     },
     "execution_count": 13,
     "metadata": {},
     "output_type": "execute_result"
    }
   ],
   "source": [
    "function forest_walk(a; inc_x=3, inc_y=1)\n",
    "   x,y = 1,1\n",
    "    count_trees = 0\n",
    "    # until the end\n",
    "    while y <= size(a)[1]\n",
    "        if a[y,x] == \"#\"\n",
    "            count_trees = count_trees+1\n",
    "        end\n",
    "        # if x > ncol, start from 1\n",
    "        x = mod1(x+inc_x, size(a)[2])\n",
    "        y = y+inc_y\n",
    "    end\n",
    "    return count_trees\n",
    "end"
   ]
  },
  {
   "cell_type": "code",
   "execution_count": 14,
   "id": "adolescent-loading",
   "metadata": {},
   "outputs": [
    {
     "data": {
      "text/plain": [
       "294"
      ]
     },
     "execution_count": 14,
     "metadata": {},
     "output_type": "execute_result"
    }
   ],
   "source": [
    "forest_walk(read_array(3, sep=r\"\\n|\", ncol=31))"
   ]
  },
  {
   "cell_type": "code",
   "execution_count": 15,
   "id": "primary-colon",
   "metadata": {},
   "outputs": [
    {
     "data": {
      "text/plain": [
       "5-element Array{Array{Int64,1},1}:\n",
       " [1, 1]\n",
       " [3, 1]\n",
       " [5, 1]\n",
       " [7, 1]\n",
       " [1, 2]"
      ]
     },
     "execution_count": 15,
     "metadata": {},
     "output_type": "execute_result"
    }
   ],
   "source": [
    "slopes = [[1,1],\n",
    "          [3,1],\n",
    "          [5,1],\n",
    "          [7,1],\n",
    "          [1,2]\n",
    "          ]"
   ]
  },
  {
   "cell_type": "code",
   "execution_count": 16,
   "id": "macro-relay",
   "metadata": {},
   "outputs": [
    {
     "data": {
      "text/plain": [
       "5-element Array{Any,1}:\n",
       "  75\n",
       " 294\n",
       "  79\n",
       "  85\n",
       "  39"
      ]
     },
     "execution_count": 16,
     "metadata": {},
     "output_type": "execute_result"
    }
   ],
   "source": [
    "trees = []\n",
    "for slope in slopes\n",
    "    append!(trees, forest_walk(read_array(3, sep=r\"\\n|\", ncol=31), inc_x=slope[1], inc_y=slope[2]))\n",
    "end\n",
    "trees"
   ]
  },
  {
   "cell_type": "code",
   "execution_count": 17,
   "id": "lasting-vacuum",
   "metadata": {},
   "outputs": [
    {
     "data": {
      "text/plain": [
       "5774564250"
      ]
     },
     "execution_count": 17,
     "metadata": {},
     "output_type": "execute_result"
    }
   ],
   "source": [
    "prod(trees)"
   ]
  },
  {
   "cell_type": "markdown",
   "id": "dress-civilian",
   "metadata": {},
   "source": [
    "## Day 4"
   ]
  },
  {
   "cell_type": "code",
   "execution_count": 18,
   "id": "static-yugoslavia",
   "metadata": {},
   "outputs": [
    {
     "data": {
      "text/plain": [
       "validate_passports (generic function with 1 method)"
      ]
     },
     "execution_count": 18,
     "metadata": {},
     "output_type": "execute_result"
    }
   ],
   "source": [
    "function validate_passports(list)\n",
    "    list = split.(list)\n",
    "    valid_passports = 0\n",
    "    for passport in list\n",
    "        passport = split.(passport, \":\")\n",
    "        d = Dict(i[1] => i[2] for i in passport)\n",
    "        if all(in(keys(d)).([\"byr\", \"iyr\", \"eyr\", \"hgt\", \"hcl\", \"ecl\", \"pid\"]))\n",
    "            #display(\"valid\")\n",
    "            valid_passports = valid_passports+1\n",
    "\n",
    "        end\n",
    "        #display(passport)\n",
    "    end\n",
    "    return valid_passports\n",
    "end\n"
   ]
  },
  {
   "cell_type": "code",
   "execution_count": 19,
   "id": "consolidated-empire",
   "metadata": {},
   "outputs": [
    {
     "data": {
      "text/plain": [
       "254"
      ]
     },
     "execution_count": 19,
     "metadata": {},
     "output_type": "execute_result"
    }
   ],
   "source": [
    "d = validate_passports(read_array(4, sep=r\"\\n\\n\"))"
   ]
  },
  {
   "cell_type": "code",
   "execution_count": 20,
   "id": "rolled-amendment",
   "metadata": {},
   "outputs": [
    {
     "data": {
      "text/plain": [
       "validate_entries (generic function with 1 method)"
      ]
     },
     "execution_count": 20,
     "metadata": {},
     "output_type": "execute_result"
    }
   ],
   "source": [
    "function validate_entries(passport)\n",
    "   # byr (Birth Year) - four digits; at least 1920 and at most 2002.\n",
    "    byr_valid = false\n",
    "    byr = passport[\"byr\"]\n",
    "    if occursin(r\"^[0-9]{4}$\", byr) && parse(Int, byr) >= 1920 && parse(Int, byr) <= 2002\n",
    "        byr_valid = true\n",
    "        #display(\"byr true\")\n",
    "    end\n",
    "    \n",
    "    # iyr (Issue Year) - four digits; at least 2010 and at most 2020.\n",
    "    iyr_valid = false\n",
    "    iyr = passport[\"iyr\"]\n",
    "     if occursin(r\"^[0-9]{4}$\", iyr) && parse(Int, iyr) >= 2010 && parse(Int, iyr) <= 2020\n",
    "        iyr_valid = true\n",
    "        #display(\"iyr true\")\n",
    "    end\n",
    "    \n",
    "    #eyr (Expiration Year) - four digits; at least 2020 and at most 2030.\n",
    "    eyr_valid = false\n",
    "    eyr = passport[\"eyr\"]\n",
    "     if occursin(r\"^[0-9]{4}$\", eyr) && parse(Int, eyr) >= 2020 && parse(Int, eyr) <= 2030\n",
    "        eyr_valid = true\n",
    "        #display(\"eyr true\")\n",
    "    end\n",
    "    \n",
    "    #hgt (Height) - a number followed by either cm or in:\n",
    "    #    If cm, the number must be at least 150 and at most 193.\n",
    "    #    If in, the number must be at least 59 and at most 76.\n",
    "    hgt_valid = false\n",
    "    hgt = passport[\"hgt\"]\n",
    "    if occursin(r\"^[0-9]{2,3}(cm|in)$\", hgt)\n",
    "        n = match(r\"^[0-9]{2,3}\", hgt)\n",
    "        n = parse(Int, n.match)\n",
    "        if occursin(r\"in$\", hgt) && n >= 59 && n <= 76\n",
    "            hgt_valid = true\n",
    "            #display(\"hgt true\")\n",
    "        elseif occursin(r\"cm$\", hgt) && n >= 150 && n <= 193\n",
    "            hgt_valid = true  \n",
    "            #display(\"hgt true\")\n",
    "        end\n",
    "    end\n",
    "\n",
    "    #hcl (Hair Color) - a # followed by exactly six characters 0-9 or a-f.\n",
    "    hcl_valid = false\n",
    "    hcl = passport[\"hcl\"]\n",
    "    if occursin(r\"^#[0-9a-f]{6}$\", hcl)\n",
    "        hcl_valid = true\n",
    "        #display(\"hcl true\")\n",
    "    end\n",
    "    \n",
    "    #ecl (Eye Color) - exactly one of: amb blu brn gry grn hzl oth.\n",
    "    ecl_valid = false\n",
    "    ecl = passport[\"ecl\"]\n",
    "    if occursin(r\"^(amb|blu|brn|gry|grn|hzl|oth)$\", ecl)\n",
    "        ecl_valid = true\n",
    "        #display(\"ecl true\")\n",
    "    end\n",
    "\n",
    "    pid_valid = false\n",
    "    pid = passport[\"pid\"]\n",
    "    if occursin(r\"^[0-9]{9}$\", pid)\n",
    "        pid_valid = true\n",
    "        #display(\"pid true\")\n",
    "    end\n",
    "\n",
    "    return byr_valid & iyr_valid & eyr_valid & hgt_valid & hcl_valid & ecl_valid & pid_valid\n",
    "    \n",
    "end"
   ]
  },
  {
   "cell_type": "code",
   "execution_count": 21,
   "id": "korean-detection",
   "metadata": {},
   "outputs": [
    {
     "data": {
      "text/plain": [
       "validate_passports_2 (generic function with 1 method)"
      ]
     },
     "execution_count": 21,
     "metadata": {},
     "output_type": "execute_result"
    }
   ],
   "source": [
    "function validate_passports_2(list)\n",
    "    list = split.(list)\n",
    "    valid_passports = 0\n",
    "    for passport in list\n",
    "       passport = split.(passport, \":\")\n",
    "        d = Dict(i[1] => i[2] for i in passport)\n",
    "        if all(in(keys(d)).([\"byr\", \"iyr\", \"eyr\", \"hgt\", \"hcl\", \"ecl\", \"pid\"]))\n",
    "            if validate_entries(d)\n",
    "               valid_passports = valid_passports+1 \n",
    "            end\n",
    "\n",
    "        end\n",
    "    end\n",
    "    return valid_passports\n",
    "end"
   ]
  },
  {
   "cell_type": "code",
   "execution_count": 22,
   "id": "controversial-liabilities",
   "metadata": {},
   "outputs": [
    {
     "data": {
      "text/plain": [
       "184"
      ]
     },
     "execution_count": 22,
     "metadata": {},
     "output_type": "execute_result"
    }
   ],
   "source": [
    "validate_passports_2(read_array(4, sep=r\"\\n\\n\"))"
   ]
  },
  {
   "cell_type": "markdown",
   "id": "lucky-mambo",
   "metadata": {},
   "source": [
    "## Day 5"
   ]
  },
  {
   "cell_type": "code",
   "execution_count": 23,
   "id": "spare-offer",
   "metadata": {},
   "outputs": [
    {
     "data": {
      "text/plain": [
       "parse_seats (generic function with 1 method)"
      ]
     },
     "execution_count": 23,
     "metadata": {},
     "output_type": "execute_result"
    }
   ],
   "source": [
    "function parse_seats(seats)\n",
    "    res = DataFrame(row = Int64[], seat = Int64[], id = Int64[])\n",
    "   for s in seats\n",
    "        row_code = match(r\"^[BF]*\", s)\n",
    "        row_code = row_code.match\n",
    "        \n",
    "        row_number = parse_letter_code(row_code, collect(1:2^length(row_code)))\n",
    "        \n",
    "        seat_code = match(r\"[RL]*$\", s)\n",
    "        seat_code = seat_code.match\n",
    "        seat_number = parse_letter_code(seat_code, collect(1:2^length(seat_code)), low=\"L\", high=\"R\")\n",
    "        push!(res, [row_number, seat_number, row_number*8 + seat_number])\n",
    "    end\n",
    "    return res\n",
    "end"
   ]
  },
  {
   "cell_type": "code",
   "execution_count": 24,
   "id": "ordinary-omega",
   "metadata": {},
   "outputs": [
    {
     "data": {
      "text/plain": [
       "parse_letter_code (generic function with 1 method)"
      ]
     },
     "execution_count": 24,
     "metadata": {},
     "output_type": "execute_result"
    }
   ],
   "source": [
    "function parse_letter_code(letter_code, r; low=\"F\", high=\"B\")\n",
    "    half = fld(length(r), 2)\n",
    "    if letter_code[1] == low[1]\n",
    "        r = r[1:half]\n",
    "    elseif letter_code[1] == high[1]\n",
    "        r = r[half+1:end]\n",
    "    end\n",
    "    if length(r) == 1\n",
    "        # -1 (rows start 1 0)\n",
    "        return r[1] - 1\n",
    "    else\n",
    "        return parse_letter_code(letter_code[2:end], r, low=low, high=high)\n",
    "    end\n",
    "end"
   ]
  },
  {
   "cell_type": "code",
   "execution_count": 25,
   "id": "official-soccer",
   "metadata": {},
   "outputs": [
    {
     "data": {
      "text/html": [
       "<table class=\"data-frame\"><thead><tr><th></th><th>row</th><th>seat</th><th>id</th></tr><tr><th></th><th>Int64</th><th>Int64</th><th>Int64</th></tr></thead><tbody><p>3 rows × 3 columns</p><tr><th>1</th><td>70</td><td>7</td><td>567</td></tr><tr><th>2</th><td>14</td><td>7</td><td>119</td></tr><tr><th>3</th><td>102</td><td>4</td><td>820</td></tr></tbody></table>"
      ],
      "text/latex": [
       "\\begin{tabular}{r|ccc}\n",
       "\t& row & seat & id\\\\\n",
       "\t\\hline\n",
       "\t& Int64 & Int64 & Int64\\\\\n",
       "\t\\hline\n",
       "\t1 & 70 & 7 & 567 \\\\\n",
       "\t2 & 14 & 7 & 119 \\\\\n",
       "\t3 & 102 & 4 & 820 \\\\\n",
       "\\end{tabular}\n"
      ],
      "text/plain": [
       "\u001b[1m3×3 DataFrame\u001b[0m\n",
       "\u001b[1m Row \u001b[0m│\u001b[1m row   \u001b[0m\u001b[1m seat  \u001b[0m\u001b[1m id    \u001b[0m\n",
       "\u001b[1m     \u001b[0m│\u001b[90m Int64 \u001b[0m\u001b[90m Int64 \u001b[0m\u001b[90m Int64 \u001b[0m\n",
       "─────┼─────────────────────\n",
       "   1 │    70      7    567\n",
       "   2 │    14      7    119\n",
       "   3 │   102      4    820"
      ]
     },
     "execution_count": 25,
     "metadata": {},
     "output_type": "execute_result"
    }
   ],
   "source": [
    "parse_seats([\"BFFFBBFRRR\", \"FFFBBBFRRR\", \"BBFFBBFRLL\"])"
   ]
  },
  {
   "cell_type": "code",
   "execution_count": 26,
   "id": "public-sheet",
   "metadata": {},
   "outputs": [
    {
     "data": {
      "text/plain": [
       "989"
      ]
     },
     "execution_count": 26,
     "metadata": {},
     "output_type": "execute_result"
    }
   ],
   "source": [
    "maximum(parse_seats(read_array(5))[:,:id])"
   ]
  },
  {
   "cell_type": "code",
   "execution_count": 27,
   "id": "medical-fashion",
   "metadata": {},
   "outputs": [],
   "source": [
    "# part B"
   ]
  },
  {
   "cell_type": "code",
   "execution_count": 28,
   "id": "opposite-beverage",
   "metadata": {},
   "outputs": [],
   "source": [
    "ids = sort(parse_seats(read_array(5))[:,:id]);"
   ]
  },
  {
   "cell_type": "code",
   "execution_count": 29,
   "id": "referenced-conference",
   "metadata": {},
   "outputs": [
    {
     "data": {
      "text/plain": [
       "548"
      ]
     },
     "metadata": {},
     "output_type": "display_data"
    }
   ],
   "source": [
    "for i in 2:length(ids)-1\n",
    "    if ids[i] + 2 == ids[i+1]\n",
    "        display(ids[i] + 1)\n",
    "    end\n",
    "end"
   ]
  },
  {
   "cell_type": "markdown",
   "id": "sharp-respect",
   "metadata": {},
   "source": [
    "## Day 6 "
   ]
  },
  {
   "cell_type": "code",
   "execution_count": 30,
   "id": "funded-portugal",
   "metadata": {},
   "outputs": [
    {
     "data": {
      "text/plain": [
       "unique_answers (generic function with 1 method)"
      ]
     },
     "execution_count": 30,
     "metadata": {},
     "output_type": "execute_result"
    }
   ],
   "source": [
    "function unique_answers(groups)\n",
    "   groups = replace.(groups, \"\\n\"=>\"\")\n",
    "    return [length(unique(i)) for i in groups]\n",
    "end"
   ]
  },
  {
   "cell_type": "code",
   "execution_count": 31,
   "id": "directed-stone",
   "metadata": {},
   "outputs": [
    {
     "data": {
      "text/plain": [
       "6726"
      ]
     },
     "execution_count": 31,
     "metadata": {},
     "output_type": "execute_result"
    }
   ],
   "source": [
    "sum(unique_answers(read_array(6, sep=r\"\\n\\n\")))"
   ]
  },
  {
   "cell_type": "code",
   "execution_count": 32,
   "id": "contemporary-ground",
   "metadata": {},
   "outputs": [
    {
     "data": {
      "text/plain": [
       "unique_answers_all (generic function with 1 method)"
      ]
     },
     "execution_count": 32,
     "metadata": {},
     "output_type": "execute_result"
    }
   ],
   "source": [
    "function unique_answers_all(groups)\n",
    "   groups_merged = replace.(groups, \"\\n\"=>\"\")\n",
    "    u = [unique(i) for i in groups]\n",
    "    res = []\n",
    "    for i in 1:length(groups)\n",
    "        a = 0  \n",
    "       for  letter in u[i]\n",
    "            if all(occursin.(letter, split(groups[i])))\n",
    "                a = a+1\n",
    "            end\n",
    "        end    \n",
    "        append!(res, a)\n",
    "    end\n",
    "    return(res)\n",
    "end"
   ]
  },
  {
   "cell_type": "code",
   "execution_count": 33,
   "id": "adverse-indicator",
   "metadata": {},
   "outputs": [
    {
     "data": {
      "text/plain": [
       "3316"
      ]
     },
     "execution_count": 33,
     "metadata": {},
     "output_type": "execute_result"
    }
   ],
   "source": [
    "sum(unique_answers_all(read_array(6, sep=r\"\\n\\n\")))"
   ]
  },
  {
   "cell_type": "markdown",
   "id": "distant-williams",
   "metadata": {},
   "source": [
    "## Day 7"
   ]
  },
  {
   "cell_type": "code",
   "execution_count": 34,
   "id": "transparent-doubt",
   "metadata": {},
   "outputs": [
    {
     "data": {
      "text/plain": [
       "generate_tree (generic function with 1 method)"
      ]
     },
     "execution_count": 34,
     "metadata": {},
     "output_type": "execute_result"
    }
   ],
   "source": [
    "function generate_tree(rules)\n",
    "    d = Dict()\n",
    "    for r in rules\n",
    "        r = replace(r, \"bags\" => \"bag\")\n",
    "        parent, children = split(r, \" contain \")\n",
    "        children = replace.(children, \".\"=>\"\")\n",
    "        children = replace.(children, \"no other bag\"=>\"\")\n",
    "        children = split.(children, \", \")\n",
    "        c = Dict()\n",
    "        for child in children\n",
    "            if child != \"\"\n",
    "                bag = strip(match(r\"[a-z ]*$\", child).match)\n",
    "                no = parse(Int, match(r\"[0-9]*\", child).match)\n",
    "                c[bag] = no\n",
    "            end\n",
    "        end\n",
    "        d[parent] = c\n",
    "    end\n",
    "    return d\n",
    "    \n",
    "end"
   ]
  },
  {
   "cell_type": "code",
   "execution_count": 35,
   "id": "dried-pottery",
   "metadata": {},
   "outputs": [
    {
     "data": {
      "text/plain": [
       "is_child (generic function with 1 method)"
      ]
     },
     "execution_count": 35,
     "metadata": {},
     "output_type": "execute_result"
    }
   ],
   "source": [
    "function is_child(tree, parent, bag)\n",
    "    children = tree[parent]\n",
    "    if length(children) == 0\n",
    "        return false\n",
    "    end\n",
    "    if bag in keys(children)\n",
    "        return true\n",
    "    end\n",
    "    return any([is_child(tree, child, bag) for child in keys(children)])\n",
    "end"
   ]
  },
  {
   "cell_type": "code",
   "execution_count": 36,
   "id": "herbal-camcorder",
   "metadata": {},
   "outputs": [
    {
     "data": {
      "text/plain": [
       "num_of_parent_bags (generic function with 1 method)"
      ]
     },
     "execution_count": 36,
     "metadata": {},
     "output_type": "execute_result"
    }
   ],
   "source": [
    "function num_of_parent_bags(tree, bag)\n",
    "   return sum([is_child(tree, k, bag) for k in keys(tree)]) \n",
    "end"
   ]
  },
  {
   "cell_type": "code",
   "execution_count": 37,
   "id": "artificial-democracy",
   "metadata": {},
   "outputs": [
    {
     "data": {
      "text/plain": [
       "142"
      ]
     },
     "execution_count": 37,
     "metadata": {},
     "output_type": "execute_result"
    }
   ],
   "source": [
    "num_of_parent_bags(generate_tree(read_array(7, sep = r\"\\n\")),\"shiny gold bag\")\n",
    "    "
   ]
  },
  {
   "cell_type": "code",
   "execution_count": 38,
   "id": "neural-place",
   "metadata": {},
   "outputs": [
    {
     "data": {
      "text/plain": [
       "num_of_bags_inside (generic function with 1 method)"
      ]
     },
     "execution_count": 38,
     "metadata": {},
     "output_type": "execute_result"
    }
   ],
   "source": [
    "function num_of_bags_inside(t, bag)\n",
    "    children = t[bag]\n",
    "    \n",
    "    if length(children) == 0\n",
    "        return 0\n",
    "    end\n",
    "    \n",
    "    n = sum([num_of_bags_inside(t, b) * children[b] + children[b] for b in keys(children)])\n",
    "\n",
    "    return n\n",
    "end"
   ]
  },
  {
   "cell_type": "code",
   "execution_count": 39,
   "id": "spread-tokyo",
   "metadata": {},
   "outputs": [
    {
     "data": {
      "text/plain": [
       "10219"
      ]
     },
     "execution_count": 39,
     "metadata": {},
     "output_type": "execute_result"
    }
   ],
   "source": [
    "num_of_bags_inside(generate_tree(read_array(7, sep = r\"\\n\")), \"shiny gold bag\")"
   ]
  },
  {
   "cell_type": "markdown",
   "id": "rotary-county",
   "metadata": {},
   "source": [
    "## Day 8"
   ]
  },
  {
   "cell_type": "code",
   "execution_count": 40,
   "id": "tired-model",
   "metadata": {},
   "outputs": [
    {
     "data": {
      "text/plain": [
       "parse_code_find_loop (generic function with 1 method)"
      ]
     },
     "execution_count": 40,
     "metadata": {},
     "output_type": "execute_result"
    }
   ],
   "source": [
    "function parse_code_find_loop(code)\n",
    "   res = 0\n",
    "   visited = []\n",
    "    i = 1 #start with line 1\n",
    "    while(true)\n",
    "       if code[i, 1] ==  \"acc\"\n",
    "            next_i = i+1\n",
    "            next_res = res + parse(Int, code[i, 2])\n",
    "        elseif code[i, 1] == \"jmp\"\n",
    "            next_i = i + parse(Int, code[i, 2])\n",
    "            next_res = res\n",
    "        elseif code[i, 1] == \"nop\"\n",
    "            next_i = i+1\n",
    "            next_res = res\n",
    "        end\n",
    "        \n",
    "        if next_i in visited\n",
    "            display(\"current line $i\")\n",
    "            display(code[i,:])\n",
    "            display(\"next line $next_i already visited\")\n",
    "            display(code[next_i,:])\n",
    "            return res\n",
    "        end\n",
    "        \n",
    "        append!(visited, i)\n",
    "        \n",
    "        i = next_i\n",
    "        res = next_res\n",
    "            \n",
    "    end\n",
    "end"
   ]
  },
  {
   "cell_type": "code",
   "execution_count": 41,
   "id": "perfect-chicago",
   "metadata": {},
   "outputs": [
    {
     "data": {
      "text/plain": [
       "\"current line 368\""
      ]
     },
     "metadata": {},
     "output_type": "display_data"
    },
    {
     "data": {
      "text/plain": [
       "2-element Array{SubString{String},1}:\n",
       " \"jmp\"\n",
       " \"+153\""
      ]
     },
     "metadata": {},
     "output_type": "display_data"
    },
    {
     "data": {
      "text/plain": [
       "\"next line 521 already visited\""
      ]
     },
     "metadata": {},
     "output_type": "display_data"
    },
    {
     "data": {
      "text/plain": [
       "2-element Array{SubString{String},1}:\n",
       " \"jmp\"\n",
       " \"-272\""
      ]
     },
     "metadata": {},
     "output_type": "display_data"
    },
    {
     "data": {
      "text/plain": [
       "1867"
      ]
     },
     "execution_count": 41,
     "metadata": {},
     "output_type": "execute_result"
    }
   ],
   "source": [
    "parse_code_find_loop(read_array(8, ncol=2))"
   ]
  },
  {
   "cell_type": "code",
   "execution_count": 42,
   "id": "silent-judge",
   "metadata": {},
   "outputs": [
    {
     "data": {
      "text/plain": [
       "parse_code_fix_loop (generic function with 1 method)"
      ]
     },
     "execution_count": 42,
     "metadata": {},
     "output_type": "execute_result"
    }
   ],
   "source": [
    "function parse_code_fix_loop(code)\n",
    "   res = 0\n",
    "   visited = []\n",
    "    i = 1 #start with line 1\n",
    "    while(i <= size(code)[1])\n",
    "       if code[i, 1] ==  \"acc\"\n",
    "            next_i = i+1\n",
    "            next_res = res + parse(Int, code[i, 2])\n",
    "        elseif code[i, 1] == \"jmp\"\n",
    "            next_i = i + parse(Int, code[i, 2])\n",
    "            next_res = res\n",
    "        elseif code[i, 1] == \"nop\"\n",
    "            next_i = i+1\n",
    "            next_res = res\n",
    "        end\n",
    "        \n",
    "        if next_i in visited\n",
    "            return false\n",
    "        end\n",
    "          \n",
    "        append!(visited, i)\n",
    "        \n",
    "        i = next_i\n",
    "        res = next_res\n",
    "            \n",
    "    end\n",
    "    return res\n",
    "end"
   ]
  },
  {
   "cell_type": "code",
   "execution_count": 43,
   "id": "nonprofit-alpha",
   "metadata": {},
   "outputs": [
    {
     "data": {
      "text/plain": [
       "try_change_code (generic function with 1 method)"
      ]
     },
     "execution_count": 43,
     "metadata": {},
     "output_type": "execute_result"
    }
   ],
   "source": [
    "function try_change_code(code)\n",
    "    for i in 1:size(code)[1]\n",
    "        new_code = copy(code)\n",
    "        \n",
    "        # change code\n",
    "       if  code[i, 1] ==  \"acc\"\n",
    "            continue\n",
    "        elseif code[i, 1] == \"jmp\"\n",
    "            new_code[i, 1] = \"nop\"\n",
    "        elseif code[i, 1] == \"nop\"\n",
    "            new_code[i, 1] = \"jmp\"\n",
    "        end\n",
    "        \n",
    "        # test new code\n",
    "        res = parse_code_fix_loop(new_code)\n",
    "        if res != false\n",
    "            display(\"changed line $i\")\n",
    "            display(code[i, :])\n",
    "            return res\n",
    "        end\n",
    "            \n",
    "    end\n",
    "\n",
    "end"
   ]
  },
  {
   "cell_type": "code",
   "execution_count": 44,
   "id": "animated-syracuse",
   "metadata": {},
   "outputs": [
    {
     "data": {
      "text/plain": [
       "\"changed line 278\""
      ]
     },
     "metadata": {},
     "output_type": "display_data"
    },
    {
     "data": {
      "text/plain": [
       "2-element Array{SubString{String},1}:\n",
       " \"jmp\"\n",
       " \"+268\""
      ]
     },
     "metadata": {},
     "output_type": "display_data"
    },
    {
     "data": {
      "text/plain": [
       "1303"
      ]
     },
     "execution_count": 44,
     "metadata": {},
     "output_type": "execute_result"
    }
   ],
   "source": [
    "try_change_code(read_array(8, ncol=2))"
   ]
  },
  {
   "cell_type": "markdown",
   "id": "satisfactory-cowboy",
   "metadata": {},
   "source": [
    "## Day 9 "
   ]
  },
  {
   "cell_type": "code",
   "execution_count": 45,
   "id": "awful-australia",
   "metadata": {},
   "outputs": [
    {
     "data": {
      "text/plain": [
       "is_sum_of_two (generic function with 1 method)"
      ]
     },
     "execution_count": 45,
     "metadata": {},
     "output_type": "execute_result"
    }
   ],
   "source": [
    "function is_sum_of_two(a, sum)\n",
    "    for i in 1:length(a)\n",
    "        for j in i+1:length(a)\n",
    "            if a[i] + a[j] == sum\n",
    "                return true\n",
    "            end\n",
    "        end\n",
    "    end\n",
    "    return false\n",
    "end"
   ]
  },
  {
   "cell_type": "code",
   "execution_count": 46,
   "id": "dramatic-weekly",
   "metadata": {},
   "outputs": [
    {
     "data": {
      "text/plain": [
       "validate_XMAS_data (generic function with 1 method)"
      ]
     },
     "execution_count": 46,
     "metadata": {},
     "output_type": "execute_result"
    }
   ],
   "source": [
    "function validate_XMAS_data(data; pre=25)\n",
    "        data = parse.(Int, data)\n",
    "    \n",
    "        for i in pre+1:length(data)\n",
    "            if !is_sum_of_two(data[i-pre:i-1], data[i])\n",
    "                return data[i]\n",
    "            end\n",
    "        end\n",
    "end\n"
   ]
  },
  {
   "cell_type": "code",
   "execution_count": 47,
   "id": "anonymous-puzzle",
   "metadata": {},
   "outputs": [
    {
     "data": {
      "text/plain": [
       "25918798"
      ]
     },
     "execution_count": 47,
     "metadata": {},
     "output_type": "execute_result"
    }
   ],
   "source": [
    "validate_XMAS_data(read_array(9))"
   ]
  },
  {
   "cell_type": "code",
   "execution_count": 48,
   "id": "interstate-functionality",
   "metadata": {},
   "outputs": [
    {
     "data": {
      "text/plain": [
       "find_sum (generic function with 1 method)"
      ]
     },
     "execution_count": 48,
     "metadata": {},
     "output_type": "execute_result"
    }
   ],
   "source": [
    "function find_sum(data, sum)\n",
    "    data = parse.(Int, data)\n",
    "    for i in 1:length(data)-1\n",
    "        total = 0\n",
    "        j = i\n",
    "        while  total <= sum\n",
    "            total = total + data[j]\n",
    "            if total == sum\n",
    "                return(data[i:j])\n",
    "            end\n",
    "            j = j+1\n",
    "        end\n",
    "    end\n",
    "end"
   ]
  },
  {
   "cell_type": "code",
   "execution_count": 49,
   "id": "official-uncle",
   "metadata": {},
   "outputs": [
    {
     "data": {
      "text/plain": [
       "calc_weakness (generic function with 1 method)"
      ]
     },
     "execution_count": 49,
     "metadata": {},
     "output_type": "execute_result"
    }
   ],
   "source": [
    "function calc_weakness(data)\n",
    "   s =  validate_XMAS_data(read_array(9))\n",
    "   l = find_sum(data, s)\n",
    "   l = sort(l)\n",
    "   display(sum(l))\n",
    "    return l[1], l[length(l)]\n",
    "end"
   ]
  },
  {
   "cell_type": "code",
   "execution_count": 50,
   "id": "north-peripheral",
   "metadata": {},
   "outputs": [
    {
     "data": {
      "text/plain": [
       "25918798"
      ]
     },
     "metadata": {},
     "output_type": "display_data"
    },
    {
     "data": {
      "text/plain": [
       "3340942"
      ]
     },
     "execution_count": 50,
     "metadata": {},
     "output_type": "execute_result"
    }
   ],
   "source": [
    "sum(calc_weakness(read_array(9)))"
   ]
  },
  {
   "cell_type": "markdown",
   "id": "innovative-luther",
   "metadata": {},
   "source": [
    "## Day 10"
   ]
  },
  {
   "cell_type": "code",
   "execution_count": 51,
   "id": "expected-astrology",
   "metadata": {},
   "outputs": [
    {
     "data": {
      "text/plain": [
       "sort_jolts (generic function with 1 method)"
      ]
     },
     "execution_count": 51,
     "metadata": {},
     "output_type": "execute_result"
    }
   ],
   "source": [
    "function sort_jolts(l)\n",
    "    l = parse.(Int, l)\n",
    "    # add 0\n",
    "    l = vcat(0, l...)\n",
    "    l = sort(l)\n",
    "    # add 3 for device\n",
    "    l = vcat(l, l[length(l)]+3)\n",
    "    \n",
    "    # get difference to the one before \n",
    "    # or use diff()\n",
    "    l = [l[i]-l[i-1] for i in 2:length(l)]\n",
    "    \n",
    "    # count\n",
    "    u=unique(l)\n",
    "    d=Dict([(i,count(x->x==i,l)) for i in u])\n",
    "    return d\n",
    "end"
   ]
  },
  {
   "cell_type": "code",
   "execution_count": 52,
   "id": "measured-intake",
   "metadata": {},
   "outputs": [
    {
     "data": {
      "text/plain": [
       "Dict{Int64,Int64} with 2 entries:\n",
       "  3 => 32\n",
       "  1 => 66"
      ]
     },
     "execution_count": 52,
     "metadata": {},
     "output_type": "execute_result"
    }
   ],
   "source": [
    "sort_jolts(read_array(10))"
   ]
  },
  {
   "cell_type": "code",
   "execution_count": 53,
   "id": "moral-violation",
   "metadata": {},
   "outputs": [
    {
     "data": {
      "text/plain": [
       "2112"
      ]
     },
     "execution_count": 53,
     "metadata": {},
     "output_type": "execute_result"
    }
   ],
   "source": [
    "32*66"
   ]
  },
  {
   "cell_type": "code",
   "execution_count": 54,
   "id": "metropolitan-silly",
   "metadata": {},
   "outputs": [
    {
     "data": {
      "text/plain": [
       "count_arrangements (generic function with 1 method)"
      ]
     },
     "execution_count": 54,
     "metadata": {},
     "output_type": "execute_result"
    }
   ],
   "source": [
    "function count_arrangements(l)\n",
    "    l = parse.(Int, l)\n",
    "    # add 0\n",
    "    l = vcat(0, l...)\n",
    "    l = sort(l)\n",
    "    # add 3 for device\n",
    "    l = vcat(l, l[length(l)]+3)\n",
    "   \n",
    "    #l = l[1:5]\n",
    "    display(\"START\")\n",
    "    dct = Dict{Int,Int}()\n",
    "    len = length(l)\n",
    "    function helper(v, i)\n",
    "        haskey(dct, i) && return dct[i] # schon gespeichert, this does the trick to reduce calc times!!!\n",
    "        i == len && return 1 #ende erreicht\n",
    "        \n",
    "        n1 =               v[i+1] - v[i] <= 3 ? helper(v, i+1) : 0\n",
    "        n2 = i+2 <= len && v[i+2] - v[i] <= 3 ? helper(v, i+2) : 0\n",
    "        n3 = i+3 <= len && v[i+3] - v[i] <= 3 ? helper(v, i+3) : 0\n",
    "        val = n1 + n2 + n3\n",
    "        dct[i] = val\n",
    "        return val\n",
    "    end\n",
    "    \n",
    "    return helper(l, 1)\n",
    "    \n",
    "end"
   ]
  },
  {
   "cell_type": "code",
   "execution_count": 55,
   "id": "floral-screening",
   "metadata": {},
   "outputs": [
    {
     "data": {
      "text/plain": [
       "\"START\""
      ]
     },
     "metadata": {},
     "output_type": "display_data"
    },
    {
     "data": {
      "text/plain": [
       "3022415986688"
      ]
     },
     "execution_count": 55,
     "metadata": {},
     "output_type": "execute_result"
    }
   ],
   "source": [
    "count_arrangements(read_array(10))"
   ]
  },
  {
   "cell_type": "code",
   "execution_count": null,
   "id": "adverse-alloy",
   "metadata": {},
   "outputs": [],
   "source": []
  }
 ],
 "metadata": {
  "kernelspec": {
   "display_name": "Julia 1.5.3",
   "language": "julia",
   "name": "julia-1.5"
  },
  "language_info": {
   "file_extension": ".jl",
   "mimetype": "application/julia",
   "name": "julia",
   "version": "1.5.3"
  }
 },
 "nbformat": 4,
 "nbformat_minor": 5
}
