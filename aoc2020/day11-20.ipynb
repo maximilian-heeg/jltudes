{
 "cells": [
  {
   "cell_type": "markdown",
   "id": "executive-liechtenstein",
   "metadata": {},
   "source": [
    "## Day 11"
   ]
  },
  {
   "cell_type": "code",
   "execution_count": 1,
   "id": "sound-median",
   "metadata": {},
   "outputs": [
    {
     "data": {
      "text/plain": [
       "read11 (generic function with 1 method)"
      ]
     },
     "execution_count": 1,
     "metadata": {},
     "output_type": "execute_result"
    }
   ],
   "source": [
    "function read11()\n",
    "    return permutedims(reduce(hcat, collect.(split(strip(read(joinpath(@__DIR__, \"./input/day11.txt\"), String)), '\\n'))))\n",
    "end"
   ]
  },
  {
   "cell_type": "code",
   "execution_count": 2,
   "id": "hydraulic-quebec",
   "metadata": {},
   "outputs": [
    {
     "data": {
      "text/plain": [
       "adjacent_seats (generic function with 1 method)"
      ]
     },
     "execution_count": 2,
     "metadata": {},
     "output_type": "execute_result"
    }
   ],
   "source": [
    "function model_seats(data=read11(); sight=1, limit=4)\n",
    "    old = data\n",
    "    \n",
    "    while true # for i in 1:2\n",
    "        new = deepcopy(old)\n",
    "        for x in 1:size(old)[2]\n",
    "            for y in 1:size(old)[1]\n",
    "                occ = adjacent_seats(old, x, y, sight)\n",
    "                if old[y,x] == 'L' && occ == 0 \n",
    "                    new[y,x] = '#'\n",
    "                elseif  old[y,x] == '#' && occ >= limit\n",
    "                    new[y,x] = 'L'\n",
    "                else\n",
    "                    new[y,x] = old[y,x]\n",
    "                end\n",
    "            end\n",
    "        end\n",
    "    \n",
    "        if new == old\n",
    "           break\n",
    "        end\n",
    "        \n",
    "        old = new\n",
    "    end\n",
    "    return count(x -> x=='#', old)\n",
    "end\n",
    "\n",
    "function adjacent_seats(data, x, y, sight)\n",
    "    directions = [[-1, -1], [-1, 0], [-1, 1], \n",
    "                  [ 0, -1],          [ 0, 1],\n",
    "                  [ 1, -1], [ 1, 0], [ 1, 1]]\n",
    "    \n",
    "    occ = 0\n",
    "    for dir in directions\n",
    "        for i in 1:sight\n",
    "            xx = x+dir[1]*i\n",
    "            yy = y+dir[2]*i\n",
    "            if xx >= 1 && yy >=1 && xx <= size(data)[2] && yy <= size(data)[1]\n",
    "               if data[yy,xx] == '#' \n",
    "                    occ = occ+1\n",
    "                    break\n",
    "                end\n",
    "                if data[yy,xx] == 'L'\n",
    "                    break\n",
    "                end\n",
    "            end\n",
    "        end\n",
    "    end\n",
    "        \n",
    "    return occ\n",
    "end"
   ]
  },
  {
   "cell_type": "code",
   "execution_count": 3,
   "id": "freelance-cyprus",
   "metadata": {},
   "outputs": [
    {
     "data": {
      "text/plain": [
       "2263"
      ]
     },
     "execution_count": 3,
     "metadata": {},
     "output_type": "execute_result"
    }
   ],
   "source": [
    "model_seats()"
   ]
  },
  {
   "cell_type": "code",
   "execution_count": 4,
   "id": "applicable-abraham",
   "metadata": {},
   "outputs": [
    {
     "data": {
      "text/plain": [
       "2002"
      ]
     },
     "execution_count": 4,
     "metadata": {},
     "output_type": "execute_result"
    }
   ],
   "source": [
    "model_seats(sight=100, limit=5)"
   ]
  },
  {
   "cell_type": "markdown",
   "id": "gorgeous-daisy",
   "metadata": {},
   "source": [
    "## Day 12"
   ]
  },
  {
   "cell_type": "code",
   "execution_count": 5,
   "id": "posted-swiss",
   "metadata": {},
   "outputs": [
    {
     "data": {
      "text/plain": [
       "read12 (generic function with 1 method)"
      ]
     },
     "execution_count": 5,
     "metadata": {},
     "output_type": "execute_result"
    }
   ],
   "source": [
    "function read12()\n",
    "    return split(strip(read(joinpath(@__DIR__, \"./input/day12.txt\"), String)), '\\n')\n",
    "end"
   ]
  },
  {
   "cell_type": "code",
   "execution_count": 6,
   "id": "heated-equity",
   "metadata": {},
   "outputs": [
    {
     "data": {
      "text/plain": [
       "navigate_ship (generic function with 2 methods)"
      ]
     },
     "execution_count": 6,
     "metadata": {},
     "output_type": "execute_result"
    }
   ],
   "source": [
    "function navigate_ship(commands = read12())\n",
    "   pos = 0 + 0im\n",
    "   facing = 1 + 0im # facing east\n",
    "   for com = commands #[1:10]\n",
    "        l = com[1]\n",
    "        num = parse(Int, com[2:end])\n",
    "        \n",
    "        # rotate\n",
    "        l == 'L'&& (facing = facing * (cosd(num)+sind(num)im))\n",
    "        l == 'R'&& (facing = facing * (cosd(num)-sind(num)im))\n",
    "        \n",
    "        # forward\n",
    "        l == 'F'&& (pos = pos + facing*num)\n",
    "        \n",
    "        # N E S W\n",
    "        l == 'N'&& (pos = pos + (0 + 1im)*num)\n",
    "        l == 'S'&& (pos = pos + (0 + -1im)*num)\n",
    "        l == 'E'&& (pos = pos + (1 + 0im)*num)\n",
    "        l == 'W'&& (pos = pos + (-1 + 0im)*num)\n",
    "        \n",
    "        \n",
    "        #display(\"Step $com\")\n",
    "        #display(\"- Pos: $pos\")\n",
    "        #display(\"- Facing: $facing\")\n",
    "   end\n",
    "   return pos\n",
    "end"
   ]
  },
  {
   "cell_type": "code",
   "execution_count": 7,
   "id": "stunning-union",
   "metadata": {},
   "outputs": [
    {
     "data": {
      "text/plain": [
       "-578.0 + 429.0im"
      ]
     },
     "execution_count": 7,
     "metadata": {},
     "output_type": "execute_result"
    }
   ],
   "source": [
    "navigate_ship()"
   ]
  },
  {
   "cell_type": "code",
   "execution_count": 8,
   "id": "micro-michigan",
   "metadata": {},
   "outputs": [
    {
     "data": {
      "text/plain": [
       "1007"
      ]
     },
     "execution_count": 8,
     "metadata": {},
     "output_type": "execute_result"
    }
   ],
   "source": [
    "578+429"
   ]
  },
  {
   "cell_type": "code",
   "execution_count": 9,
   "id": "mounted-saudi",
   "metadata": {},
   "outputs": [
    {
     "data": {
      "text/plain": [
       "navigate_ship_waypoint (generic function with 2 methods)"
      ]
     },
     "execution_count": 9,
     "metadata": {},
     "output_type": "execute_result"
    }
   ],
   "source": [
    "function navigate_ship_waypoint(commands = read12())\n",
    "   pos = 0 + 0im\n",
    "   waypoint = 10 + 1im # facing east\n",
    "   for com = commands #[1:10]\n",
    "        l = com[1]\n",
    "        num = parse(Int, com[2:end])\n",
    "        \n",
    "        # rotate\n",
    "        l == 'L'&& (waypoint = waypoint * (cosd(num)+sind(num)im))\n",
    "        l == 'R'&& (waypoint = waypoint * (cosd(num)-sind(num)im))\n",
    "        \n",
    "        # forward\n",
    "        l == 'F'&& (pos = pos + waypoint*num)\n",
    "        \n",
    "        # N E S W\n",
    "        l == 'N'&& (waypoint = waypoint + (0 + 1im)*num)\n",
    "        l == 'S'&& (waypoint = waypoint + (0 + -1im)*num)\n",
    "        l == 'E'&& (waypoint = waypoint + (1 + 0im)*num)\n",
    "        l == 'W'&& (waypoint = waypoint + (-1 + 0im)*num)\n",
    "        \n",
    "        \n",
    "        #display(\"Step $com\")\n",
    "        #display(\"- Pos: $pos\")\n",
    "        #display(\"- Facing: $facing\")\n",
    "   end\n",
    "   return pos\n",
    "end"
   ]
  },
  {
   "cell_type": "code",
   "execution_count": 10,
   "id": "hydraulic-equilibrium",
   "metadata": {},
   "outputs": [
    {
     "data": {
      "text/plain": [
       "-36653.0 - 4559.0im"
      ]
     },
     "execution_count": 10,
     "metadata": {},
     "output_type": "execute_result"
    }
   ],
   "source": [
    "navigate_ship_waypoint()"
   ]
  },
  {
   "cell_type": "code",
   "execution_count": 11,
   "id": "charitable-dating",
   "metadata": {},
   "outputs": [
    {
     "data": {
      "text/plain": [
       "41212"
      ]
     },
     "execution_count": 11,
     "metadata": {},
     "output_type": "execute_result"
    }
   ],
   "source": [
    "36653+4559"
   ]
  },
  {
   "cell_type": "markdown",
   "id": "numerical-wrapping",
   "metadata": {},
   "source": [
    "## Day 13"
   ]
  },
  {
   "cell_type": "code",
   "execution_count": 12,
   "id": "signal-parcel",
   "metadata": {},
   "outputs": [
    {
     "data": {
      "text/plain": [
       "read13 (generic function with 1 method)"
      ]
     },
     "execution_count": 12,
     "metadata": {},
     "output_type": "execute_result"
    }
   ],
   "source": [
    "function read13()\n",
    "    t_str, buses_str = readlines(joinpath(@__DIR__, \"./input/day13.txt\"))\n",
    "    time = parse(Int, t_str)\n",
    "    buses = map(x->x==\"x\" ? nothing : parse(Int, x), split(buses_str, ','))\n",
    "    time, buses\n",
    "end"
   ]
  },
  {
   "cell_type": "code",
   "execution_count": 13,
   "id": "capable-marker",
   "metadata": {},
   "outputs": [
    {
     "data": {
      "text/plain": [
       "earliest_depature (generic function with 2 methods)"
      ]
     },
     "execution_count": 13,
     "metadata": {},
     "output_type": "execute_result"
    }
   ],
   "source": [
    "function earliest_depature(data = read13())\n",
    "   time, lines = data\n",
    "\n",
    "    lines = lines[lines .!= nothing]\n",
    "\n",
    "    wait = [cld(time, line) * line - time for line in lines]\n",
    "    id = argmin(wait)\n",
    "    \n",
    "    return wait[id] * lines[id]\n",
    "end"
   ]
  },
  {
   "cell_type": "code",
   "execution_count": 14,
   "id": "sufficient-emperor",
   "metadata": {},
   "outputs": [
    {
     "data": {
      "text/plain": [
       "171"
      ]
     },
     "execution_count": 14,
     "metadata": {},
     "output_type": "execute_result"
    }
   ],
   "source": [
    "earliest_depature()"
   ]
  },
  {
   "cell_type": "code",
   "execution_count": 15,
   "id": "welcome-display",
   "metadata": {},
   "outputs": [
    {
     "data": {
      "text/plain": [
       "earliest_depature_2 (generic function with 2 methods)"
      ]
     },
     "execution_count": 15,
     "metadata": {},
     "output_type": "execute_result"
    }
   ],
   "source": [
    "function earliest_depature_2(data = read13())\n",
    "   time, lines = data\n",
    "\n",
    "   d = [ [i-1 , lines[i]] for i in 1:length(lines) if lines[i] != nothing]\n",
    "    \n",
    "    #d = d[1:3,:]\n",
    "    #display(d)\n",
    "    inc = d[1][2]\n",
    "    time = 0\n",
    "    \n",
    "    \n",
    "    for i in 2:size(d)[1]\n",
    "        offset, freq = d[i]\n",
    "        while  (time + offset) % freq != 0\n",
    "             time = time + inc\n",
    "        end\n",
    "        inc = lcm(inc, freq)\n",
    "        display(\"Time: $time, inc: $inc, offset: $offset, freq $freq\")\n",
    "        #for j in 1:i\n",
    "        #    off = cld(time, d[j][2]) * d[j][2] - time\n",
    "        #    actual = cld(time, d[j][2]) * d[j][2]\n",
    "        #    freq = d[j][2]\n",
    "        #    display(\"bus $freq off $off, actual depart $actual\")\n",
    "        #end\n",
    "    end\n",
    "   \n",
    "    return time\n",
    "  \n",
    "end\n",
    "\n"
   ]
  },
  {
   "cell_type": "code",
   "execution_count": 16,
   "id": "verbal-writing",
   "metadata": {},
   "outputs": [
    {
     "data": {
      "text/plain": [
       "\"Time: 69, inc: 943, offset: 13, freq 41\""
      ]
     },
     "metadata": {},
     "output_type": "display_data"
    },
    {
     "data": {
      "text/plain": [
       "\"Time: 22701, inc: 34891, offset: 17, freq 37\""
      ]
     },
     "metadata": {},
     "output_type": "display_data"
    },
    {
     "data": {
      "text/plain": [
       "\"Time: 10455110, inc: 16712789, offset: 23, freq 479\""
      ]
     },
     "metadata": {},
     "output_type": "display_data"
    },
    {
     "data": {
      "text/plain": [
       "\"Time: 10455110, inc: 217266257, offset: 36, freq 13\""
      ]
     },
     "metadata": {},
     "output_type": "display_data"
    },
    {
     "data": {
      "text/plain": [
       "\"Time: 662253881, inc: 3693526369, offset: 40, freq 17\""
      ]
     },
     "metadata": {},
     "output_type": "display_data"
    },
    {
     "data": {
      "text/plain": [
       "\"Time: 8049306619, inc: 107112264701, offset: 52, freq 29\""
      ]
     },
     "metadata": {},
     "output_type": "display_data"
    },
    {
     "data": {
      "text/plain": [
       "\"Time: 20359379599809, inc: 39952874733473, offset: 54, freq 373\""
      ]
     },
     "metadata": {},
     "output_type": "display_data"
    },
    {
     "data": {
      "text/plain": [
       "\"Time: 539746751134958, inc: 759104619935987, offset: 73, freq 19\""
      ]
     },
     "metadata": {},
     "output_type": "display_data"
    },
    {
     "data": {
      "text/plain": [
       "539746751134958"
      ]
     },
     "execution_count": 16,
     "metadata": {},
     "output_type": "execute_result"
    }
   ],
   "source": [
    "earliest_depature_2()"
   ]
  },
  {
   "cell_type": "markdown",
   "id": "answering-concord",
   "metadata": {},
   "source": [
    "## Day 14"
   ]
  },
  {
   "cell_type": "code",
   "execution_count": 17,
   "id": "referenced-danish",
   "metadata": {},
   "outputs": [
    {
     "data": {
      "text/plain": [
       "read14 (generic function with 1 method)"
      ]
     },
     "execution_count": 17,
     "metadata": {},
     "output_type": "execute_result"
    }
   ],
   "source": [
    "function read14()\n",
    "    split(strip(read(joinpath(@__DIR__, \"./input/day14.txt\"), String)), '\\n')\n",
    "end"
   ]
  },
  {
   "cell_type": "code",
   "execution_count": 18,
   "id": "empty-syracuse",
   "metadata": {},
   "outputs": [
    {
     "data": {
      "text/plain": [
       "set_value! (generic function with 1 method)"
      ]
     },
     "execution_count": 18,
     "metadata": {},
     "output_type": "execute_result"
    }
   ],
   "source": [
    "DEBUG = false\n",
    "function mask_task_part1(data = read14())\n",
    "    mem = Dict()\n",
    "    mask = \"\"\n",
    "    mask \n",
    "    for l in data\n",
    "       if occursin(\"mask = \", l)\n",
    "            mask = match(r\"[01X]*$\", l).match\n",
    "            DEBUG && display(\"Set new mask to $mask\")\n",
    "        elseif occursin(\"mem\", l)\n",
    "            pos = parse(Int, match(r\"^mem\\[([0-9]*)\\]\", l)[1])\n",
    "            value = parse(Int, match(r\"([0-9]*)$\", l)[1])\n",
    "            DEBUG && display(\"Set value $value at pos $pos\")\n",
    "            \n",
    "            set_value!(mem, mask, pos, value)\n",
    "        end\n",
    "    end\n",
    "    return sum(values(mem))\n",
    "end\n",
    "\n",
    "function set_value!(mem, mask, pos, value)\n",
    "   bits =  bitstring(value)[64-35:64]\n",
    "    DEBUG && display(\" - $bits - $value\")\n",
    "    DEBUG && display(\" - $mask  - mask\")\n",
    "    bits = collect(bits)\n",
    "   for i in 1:length(mask)\n",
    "      mask[i] == 'X' && continue\n",
    "      bits[i] = mask[i]\n",
    "   end\n",
    "    bits = string(bits...)\n",
    "    new_value = parse(Int, bits; base=2)\n",
    "    DEBUG && display(\" - $bits - $new_value\")\n",
    "    \n",
    "    mem[pos] = new_value\n",
    "end"
   ]
  },
  {
   "cell_type": "code",
   "execution_count": 19,
   "id": "built-example",
   "metadata": {},
   "outputs": [
    {
     "data": {
      "text/plain": [
       "4886706177792"
      ]
     },
     "execution_count": 19,
     "metadata": {},
     "output_type": "execute_result"
    }
   ],
   "source": [
    "mask_task_part1()"
   ]
  },
  {
   "cell_type": "code",
   "execution_count": 20,
   "id": "wrapped-masters",
   "metadata": {},
   "outputs": [
    {
     "data": {
      "text/plain": [
       "set_value2! (generic function with 1 method)"
      ]
     },
     "execution_count": 20,
     "metadata": {},
     "output_type": "execute_result"
    }
   ],
   "source": [
    "DEBUG = false\n",
    "function mask_task_part2(data = read14())\n",
    "    mem = Dict()\n",
    "    mask = \"\"\n",
    "    mask \n",
    "    DEBUG && (data = data[1:4])\n",
    "    for l in data\n",
    "       if occursin(\"mask = \", l)\n",
    "            mask = match(r\"[01X]*$\", l).match\n",
    "            DEBUG && display(\"Set new mask to $mask\")\n",
    "        elseif occursin(\"mem\", l)\n",
    "            pos = parse(Int, match(r\"^mem\\[([0-9]*)\\]\", l)[1])\n",
    "            value = parse(Int, match(r\"([0-9]*)$\", l)[1])\n",
    "            DEBUG && display(\"Set value $value at pos $pos\")\n",
    "            \n",
    "            set_value2!(mem, mask, pos, value)\n",
    "        end\n",
    "    end\n",
    "    \n",
    "    return sum(values(mem))\n",
    "end\n",
    "\n",
    "function set_value2!(mem, mask, pos, value)\n",
    "   bits =  bitstring(pos)[64-35:64]\n",
    "    DEBUG && display(\" - $bits - $value\")\n",
    "    DEBUG && display(\" - $mask  - mask\")\n",
    "    bits = collect(bits)\n",
    "   for i in 1:length(mask)\n",
    "      mask[i] == '0' && continue\n",
    "      bits[i] = mask[i]\n",
    "   end\n",
    "    bits = string(bits...)\n",
    "    #new_value = parse(Int, bits; base=2)\n",
    "    DEBUG && display(\" - $bits - new_value\")\n",
    "    \n",
    "    # get all variants\n",
    "    bits = floating_bit(bits)\n",
    "    bits = parse.(Int, bits; base=2)\n",
    "    \n",
    "    for b in bits\n",
    "       mem[b] = value\n",
    "    end\n",
    "    \n",
    "    \n",
    "end"
   ]
  },
  {
   "cell_type": "code",
   "execution_count": 21,
   "id": "collect-sense",
   "metadata": {},
   "outputs": [
    {
     "data": {
      "text/plain": [
       "floating_bit (generic function with 1 method)"
      ]
     },
     "execution_count": 21,
     "metadata": {},
     "output_type": "execute_result"
    }
   ],
   "source": [
    "function floating_bit(bits)\n",
    "    bits = collect(bits)\n",
    "    sum(bits .== 'X') == 0 && return string(bits...)\n",
    "\n",
    "    return vcat([floating_bit(replace(string(bits...), 'X' => i, count=1)) for i in [0, 1]]...)\n",
    "    \n",
    "end"
   ]
  },
  {
   "cell_type": "code",
   "execution_count": 22,
   "id": "monetary-february",
   "metadata": {},
   "outputs": [
    {
     "data": {
      "text/plain": [
       "3348493585827"
      ]
     },
     "execution_count": 22,
     "metadata": {},
     "output_type": "execute_result"
    }
   ],
   "source": [
    "mask_task_part2()"
   ]
  },
  {
   "cell_type": "markdown",
   "id": "revised-taiwan",
   "metadata": {},
   "source": [
    "## Day 15"
   ]
  },
  {
   "cell_type": "code",
   "execution_count": 23,
   "id": "european-karen",
   "metadata": {},
   "outputs": [
    {
     "data": {
      "text/plain": [
       "spoken_numbers_2 (generic function with 1 method)"
      ]
     },
     "execution_count": 23,
     "metadata": {},
     "output_type": "execute_result"
    }
   ],
   "source": [
    "using BenchmarkTools\n",
    "function spoken_numbers(numbers; stop=2020)\n",
    "   for i in length(numbers)+1:stop\n",
    "        #i % 100000 == 0  && display(\"currently at $i\")\n",
    "       if numbers[i-1] in numbers[1:i-2]\n",
    "            diff = i-1-findlast(x -> x==numbers[i-1], numbers[1:i-2])\n",
    "            numbers = vcat(numbers, diff)\n",
    "        else\n",
    "           numbers = vcat(numbers, 0)\n",
    "        end\n",
    "    end\n",
    "    return last(numbers)\n",
    "end\n",
    "\n",
    "function spoken_numbers_2(numbers; stop=2020)\n",
    "    history = Dict(numbers[i] => i for i in 1:length(numbers)-1)\n",
    "    last_number = last(numbers)\n",
    "   for i in length(numbers)+1:stop\n",
    "        #i % 250000 == 0  && display(\"currently at $i\")\n",
    "       if last_number  in keys(history)\n",
    "            next_number = i-1-history[last_number]\n",
    "        else\n",
    "            next_number = 0\n",
    "        end\n",
    "        #display(\"next: $next_number\")\n",
    "        history[last_number] = i-1\n",
    "        #display(history)\n",
    "        last_number = next_number\n",
    "    end\n",
    "    return last_number\n",
    "end"
   ]
  },
  {
   "cell_type": "code",
   "execution_count": 24,
   "id": "alpha-image",
   "metadata": {},
   "outputs": [
    {
     "name": "stdout",
     "output_type": "stream",
     "text": [
      "  19.569 ms (235535 allocations: 49.05 MiB)\n"
     ]
    },
    {
     "data": {
      "text/plain": [
       "289"
      ]
     },
     "execution_count": 24,
     "metadata": {},
     "output_type": "execute_result"
    }
   ],
   "source": [
    "@btime spoken_numbers([0,8,15,2,12,1,4], stop=2020)"
   ]
  },
  {
   "cell_type": "code",
   "execution_count": 25,
   "id": "improving-listening",
   "metadata": {},
   "outputs": [
    {
     "name": "stdout",
     "output_type": "stream",
     "text": [
      "  36.108 μs (14 allocations: 24.11 KiB)\n"
     ]
    },
    {
     "data": {
      "text/plain": [
       "289"
      ]
     },
     "execution_count": 25,
     "metadata": {},
     "output_type": "execute_result"
    }
   ],
   "source": [
    "@btime spoken_numbers_2([0,8,15,2,12,1,4], stop=2020)"
   ]
  },
  {
   "cell_type": "code",
   "execution_count": null,
   "id": "vanilla-dealer",
   "metadata": {},
   "outputs": [],
   "source": [
    "@btime spoken_numbers_2([0,8,15,2,12,1,4], stop=30000000)"
   ]
  },
  {
   "cell_type": "markdown",
   "id": "italian-walnut",
   "metadata": {},
   "source": [
    "## Day 16"
   ]
  },
  {
   "cell_type": "code",
   "execution_count": null,
   "id": "designed-villa",
   "metadata": {},
   "outputs": [],
   "source": [
    "function read16()\n",
    "    file = \"input/day16.txt\"\n",
    "    rules = Dict()\n",
    "    \n",
    "    myticket = Int[]\n",
    "    \n",
    "    tickets = Int[]\n",
    "    \n",
    "    current = \"rules\"\n",
    "    open(file) do io\n",
    "        while !eof(io)\n",
    "            line = readline(io)\n",
    "            line == \"\" && continue\n",
    "            line == \"your ticket:\" && (current = \"myticket\"; continue;)\n",
    "            line == \"nearby tickets:\" && (current = \"tickets\"; continue;)\n",
    "            \n",
    "            if current == \"rules\"\n",
    "               rule = match(r\"^(.*):\", line)[1]\n",
    "               ranges = [match.match for match in eachmatch(r\"[0-9-]+\", line)]\n",
    "               rules[rule] = ranges\n",
    "            elseif current == \"myticket\"\n",
    "                myticket = hcat(parse.(Int, split(line, \",\"))...)\n",
    "            elseif current == \"tickets\"\n",
    "               tickets = append!(tickets, parse.(Int, split(line, \",\")))  \n",
    "            end\n",
    "              \n",
    "            \n",
    "            \n",
    "        end\n",
    "    end\n",
    "    tickets = reshape(tickets, 20, :)\n",
    "    tickets = permutedims(tickets)\n",
    "    return rules, myticket, tickets\n",
    "end"
   ]
  },
  {
   "cell_type": "code",
   "execution_count": null,
   "id": "wooden-baptist",
   "metadata": {},
   "outputs": [],
   "source": [
    "function invalid_tickets(data = read16())\n",
    "   rules, myticket, tickets = data\n",
    "    error = 0\n",
    "    invalid = Int[]\n",
    "    for i in 1:size(tickets)[1]\n",
    "        row = tickets[i,:]\n",
    "        for value in row\n",
    "           valid = [ validate_value(value, ranges) for (rule, ranges) in rules]\n",
    "            any(valid) && continue\n",
    "            error += value\n",
    "            append!(invalid, i)\n",
    "        end\n",
    "    end\n",
    "    error, unique(invalid)\n",
    "end\n",
    "\n",
    "function validate_value(value, ranges)\n",
    "   for range in ranges\n",
    "        min, max = parse.(Int, split(range, \"-\"))\n",
    "        min <= value && max >= value && return true\n",
    "    end\n",
    "    return false\n",
    "end"
   ]
  },
  {
   "cell_type": "code",
   "execution_count": null,
   "id": "occupational-coffee",
   "metadata": {},
   "outputs": [],
   "source": [
    "invalid_tickets()"
   ]
  },
  {
   "cell_type": "code",
   "execution_count": null,
   "id": "played-august",
   "metadata": {},
   "outputs": [],
   "source": [
    "# part 2\n",
    "\n",
    "function assign_fields(data=read16())\n",
    "   error, invalid =  invalid_tickets()\n",
    "   rules, myticket, tickets = data\n",
    "   # remove invalid\n",
    "    tickets = tickets[setdiff(1:end, invalid), :]\n",
    "    \n",
    "    #tickets = tickets[:,1:8]\n",
    "    \n",
    "    valid_rules = assign_columns(tickets, rules) \n",
    "    chain = build_chain(valid_rules)\n",
    "    \n",
    "    depature_cols = [key for (key, val) in chain if occursin(\"departure\", val)]\n",
    "    \n",
    "    return prod(myticket[depature_cols])\n",
    "end\n",
    "\n",
    "function assign_columns(tickets, rules)\n",
    "    valid_rules = Dict()\n",
    "    for i in 1:size(tickets)[2]\n",
    "        valid_rules[i] = []\n",
    "       col = tickets[:,i] \n",
    "        for (rule, ranges) in rules\n",
    "            if all([validate_value(value, ranges) for value in col])\n",
    "                valid_rules[i] = append!(valid_rules[i], [rule])\n",
    "            end\n",
    "        end\n",
    "        \n",
    "    end\n",
    "    valid_rules  \n",
    "end\n",
    "\n"
   ]
  },
  {
   "cell_type": "code",
   "execution_count": null,
   "id": "above-bacteria",
   "metadata": {},
   "outputs": [],
   "source": [
    "function build_chain(d; chain=Dict())\n",
    "    \n",
    "    remaining_columns = setdiff(keys(d), keys(chain))\n",
    "    remaining_columns = collect(remaining_columns)\n",
    "    remaining_columns = sort(remaining_columns, by=x->length(d[x]))\n",
    "    \n",
    "    used_rules = vcat(values(chain)...)\n",
    "    for col in remaining_columns\n",
    "        rules = setdiff(d[col], used_rules)\n",
    "        for r in rules\n",
    "           new_chain = copy(chain)\n",
    "           new_chain[col] = r\n",
    "            \n",
    "           length(remaining_columns) == 1 && return new_chain\n",
    "           res = build_chain(d, chain=new_chain)\n",
    "           res == false && continue\n",
    "                       \n",
    "           return res\n",
    "        end\n",
    "        return false\n",
    "    end\n",
    "end"
   ]
  },
  {
   "cell_type": "code",
   "execution_count": null,
   "id": "subjective-policy",
   "metadata": {},
   "outputs": [],
   "source": [
    "assign_fields()"
   ]
  },
  {
   "cell_type": "markdown",
   "id": "banned-florence",
   "metadata": {},
   "source": [
    "## Day 17"
   ]
  },
  {
   "cell_type": "code",
   "execution_count": null,
   "id": "willing-draft",
   "metadata": {},
   "outputs": [],
   "source": [
    "function read17(; dims = 3)\n",
    "    input = split(strip(read(joinpath(@__DIR__, \"./input/day17.txt\"), String)), '\\n')\n",
    "    d = Dict{Array{Int64}, Bool}()\n",
    "    for x in eachindex(input)\n",
    "       line = input[x]\n",
    "       values = split(line, \"\")\n",
    "        for y in eachindex(values)\n",
    "            dims == 3 && (d[[x,y,0]] = values[y] == \"#\")\n",
    "            dims == 4 && (d[[x,y,0, 0]] = values[y] == \"#\")\n",
    "        end\n",
    "    end\n",
    "    return d\n",
    "end"
   ]
  },
  {
   "cell_type": "code",
   "execution_count": null,
   "id": "former-husband",
   "metadata": {},
   "outputs": [],
   "source": [
    "function day17_part1(d = read17(dims = 3))\n",
    "    all_directions = [[x,y,z] for x in -1:1 for y in -1:1 for z in -1:1]\n",
    "    all_directions\n",
    "    \n",
    "    # remove inactive\n",
    "    for (k, v) in d\n",
    "        v == false && delete!(d, k)\n",
    "    end\n",
    "    \n",
    "    for i in 1:6\n",
    "        new_d = Dict{Array{Int64}, Bool}()\n",
    "        for (k, v) in d\n",
    "           for direction in  all_directions\n",
    "                active = active_neighbors(d, k+direction, all_directions)\n",
    "                if haskey(d, k + direction) && d[k + direction] == true && 2 <= active <= 3\n",
    "                    new_d[k + direction] = true\n",
    "                elseif !haskey(d, k + direction) && active == 3\n",
    "                    new_d[k + direction] = true\n",
    "                end\n",
    "           end\n",
    "        end\n",
    "        d = new_d\n",
    "    end\n",
    "    return length(d)\n",
    "    #active_neighbors(d, [4,4,0], all_directions)\n",
    "end\n",
    "\n",
    "function active_neighbors(d, pos, all_directions; dims = 3)\n",
    "   active = 0\n",
    "   dims == 3 && (all_directions = setdiff(all_directions, [[0,0,0]]))\n",
    "    dims == 4 && (all_directions = setdiff(all_directions, [[0,0,0,0]]))\n",
    "    \n",
    "   for direction in  all_directions\n",
    "       if haskey(d, pos + direction)\n",
    "         d[pos + direction] == true && (active = active +1)\n",
    "        end\n",
    "    end\n",
    "    return active\n",
    "end"
   ]
  },
  {
   "cell_type": "code",
   "execution_count": null,
   "id": "medical-lodging",
   "metadata": {},
   "outputs": [],
   "source": [
    "day17_part1()"
   ]
  },
  {
   "cell_type": "code",
   "execution_count": null,
   "id": "atmospheric-tucson",
   "metadata": {},
   "outputs": [],
   "source": [
    "function day17_part2(d = read17(dims = 4))\n",
    "    all_directions = [[x,y,z, a] for x in -1:1 for y in -1:1 for z in -1:1 for a in -1:1]\n",
    "    all_directions\n",
    "    \n",
    "    # remove inactive\n",
    "    for (k, v) in d\n",
    "        v == false && delete!(d, k)\n",
    "    end\n",
    "    \n",
    "    for i in 1:6\n",
    "        new_d = Dict{Array{Int64}, Bool}()\n",
    "        \n",
    "        # Find all postitions to test\n",
    "        testing = Array{Int}[]\n",
    "        for (k, v) in d\n",
    "           for direction in  all_directions\n",
    "                append!(testing, [k+direction])\n",
    "           end\n",
    "        end\n",
    "        \n",
    "        testing = unique(testing)\n",
    "        \n",
    "        # test all positions and create new dict for next iteration\n",
    "        for test in testing\n",
    "             active = active_neighbors(d, test, all_directions, dims = 4)\n",
    "             if haskey(d, test) && d[test] == true && 2 <= active <= 3\n",
    "                new_d[test] = true\n",
    "             elseif !haskey(d, test) && active == 3\n",
    "                new_d[test] = true\n",
    "             end\n",
    "        end\n",
    "       \n",
    "        \n",
    "        \n",
    "        d = new_d\n",
    "    end\n",
    "    \n",
    "    \n",
    "    return length(d)\n",
    "end"
   ]
  },
  {
   "cell_type": "code",
   "execution_count": null,
   "id": "virtual-impact",
   "metadata": {},
   "outputs": [],
   "source": [
    "using BenchmarkTools\n",
    "@btime day17_part2()"
   ]
  },
  {
   "cell_type": "markdown",
   "id": "addressed-reducing",
   "metadata": {},
   "source": [
    "## Day 18"
   ]
  },
  {
   "cell_type": "code",
   "execution_count": null,
   "id": "adjusted-recovery",
   "metadata": {},
   "outputs": [],
   "source": [
    "using BenchmarkTools\n",
    "function read18()\n",
    "    return split(strip(read(joinpath(@__DIR__, \"./input/day18.txt\"), String)), '\\n')\n",
    "end"
   ]
  },
  {
   "cell_type": "code",
   "execution_count": null,
   "id": "apparent-participant",
   "metadata": {},
   "outputs": [],
   "source": [
    "function parse_expression(expression)\n",
    "   # search for brackets\n",
    "   while occursin(r\"\\((.*)\\)\",  expression)\n",
    "      open_brackets = 1\n",
    "      pos_start = findfirst(x -> x == '(', expression)\n",
    "      pos_end = -1\n",
    "      for i in pos_start+1:length(expression)\n",
    "            expression[i] == '(' && (open_brackets += 1)\n",
    "            expression[i] == ')' && (open_brackets -= 1)\n",
    "            open_brackets == 0 && (pos_end = i; break)\n",
    "      end\n",
    "            \n",
    "      inside_bracket = expression[pos_start+1:pos_end-1]\n",
    "      inside_bracket_res = parse_expression(inside_bracket)\n",
    "      expression = replace(expression, expression[pos_start:pos_end] => inside_bracket_res)\n",
    "          \n",
    "   end\n",
    "    \n",
    "   r = match(r\"([0-9]+) ([+*]{1}) ([0-9]+)(.*)\", expression) \n",
    "   num1 = parse(Int, r[1])\n",
    "   num2 = parse(Int, r[3])\n",
    "   op = r[2]\n",
    "   rest = r[4]\n",
    "    \n",
    "    op == \"+\" && (res = num1 + num2)\n",
    "    op == \"*\" && (res = num1 * num2)\n",
    "    \n",
    "    rest == \"\" &&  return res\n",
    "    \n",
    "    rest = string(res) * rest\n",
    "    return parse_expression(rest)\n",
    "end"
   ]
  },
  {
   "cell_type": "code",
   "execution_count": null,
   "id": "asian-promise",
   "metadata": {},
   "outputs": [],
   "source": [
    "function day18_part1(data = read18())\n",
    "    return sum([parse_expression(line) for line in data])\n",
    "end"
   ]
  },
  {
   "cell_type": "code",
   "execution_count": null,
   "id": "severe-delta",
   "metadata": {},
   "outputs": [],
   "source": [
    "@btime day18_part1()"
   ]
  },
  {
   "cell_type": "code",
   "execution_count": null,
   "id": "bearing-croatia",
   "metadata": {},
   "outputs": [],
   "source": [
    "function parse_expression_2(expression)\n",
    "   # search for brackets\n",
    "   while occursin(r\"\\((.*)\\)\",  expression)\n",
    "      open_brackets = 1\n",
    "      pos_start = findfirst(x -> x == '(', expression)\n",
    "      pos_end = -1\n",
    "      for i in pos_start+1:length(expression)\n",
    "            expression[i] == '(' && (open_brackets += 1)\n",
    "            expression[i] == ')' && (open_brackets -= 1)\n",
    "            open_brackets == 0 && (pos_end = i; break)\n",
    "      end\n",
    "            \n",
    "      inside_bracket = expression[pos_start+1:pos_end-1]\n",
    "      inside_bracket_res = parse_expression_2(inside_bracket)\n",
    "      expression = replace(expression, expression[pos_start:pos_end] => inside_bracket_res)\n",
    "   end\n",
    "    \n",
    "  \n",
    "   # all + \n",
    "   while occursin(\"+\",  expression)\n",
    "       r = match(r\"(.*?)([0-9]+ \\+ [0-9]+)(.*)\", expression) \n",
    "       res = parse_expression(r[2])\n",
    "       expression = r[1] * string(res) * r[3]\n",
    "   end\n",
    "\n",
    "   # all *\n",
    "   while occursin(\"*\",  expression)\n",
    "       r = match(r\"(.*?)([0-9]+ \\* [0-9]+)(.*)\", expression) \n",
    "       res = parse_expression(r[2])\n",
    "       expression = r[1] * string(res) * r[3]\n",
    "   end\n",
    "   \n",
    "    \n",
    "   return parse(Int, expression)\n",
    "end"
   ]
  },
  {
   "cell_type": "code",
   "execution_count": null,
   "id": "protecting-sister",
   "metadata": {},
   "outputs": [],
   "source": [
    "function day18_part2(data = read18())\n",
    "    return sum([parse_expression_2(line) for line in data])\n",
    "end"
   ]
  },
  {
   "cell_type": "code",
   "execution_count": null,
   "id": "opposed-anaheim",
   "metadata": {},
   "outputs": [],
   "source": [
    "@btime day18_part2()"
   ]
  },
  {
   "cell_type": "markdown",
   "id": "million-locking",
   "metadata": {},
   "source": [
    "## Day 19"
   ]
  },
  {
   "cell_type": "code",
   "execution_count": null,
   "id": "absent-journalist",
   "metadata": {},
   "outputs": [],
   "source": [
    "using BenchmarkTools\n",
    "function read19()\n",
    "    rules, input =  split(strip(read(joinpath(@__DIR__, \"./input/day19.txt\"), String)), \"\\n\\n\")\n",
    "    rules = split(rules, \"\\n\");\n",
    "    rules = replace.(rules, \"\\\"\" => \"\")\n",
    "    rules = Dict{Int, Any}(parse(Int, k) => v for (k,v) in split.(rules, \": \"))\n",
    "    input = split(input, \"\\n\");\n",
    "    return rules, input\n",
    "end"
   ]
  },
  {
   "cell_type": "code",
   "execution_count": null,
   "id": "eligible-rugby",
   "metadata": {},
   "outputs": [],
   "source": [
    "parse_rules = function(rules, id)\n",
    "    #display(\"rule $id: \" * rules[id])\n",
    "    if rules[id] == \"a\" || rules[id] == \"b\"\n",
    "        return rules[id]\n",
    "    end\n",
    "    \n",
    "    parts = []\n",
    "    for part in split(rules[id], \" | \")\n",
    "        #display(\"... part $part\")\n",
    "        subparts = []\n",
    "        for r in split(part, \" \")\n",
    "            #display(\"... ... part $r\")\n",
    "            m = match(r\"^(\\d+)(.*)\", r)\n",
    "            \n",
    "            append!(subparts, parse_rules(rules, parse(Int,m[1])) * m[2])\n",
    "        end\n",
    "        #rules = [parse_rules(rules, parse(Int,r)) for r in split(part, \" \")]\n",
    "        subparts = \"(\" * join(subparts) * \")\"\n",
    "        append!(parts, [subparts])\n",
    "    end\n",
    "    parts = \"(\" * join(parts, \"|\") * \")\"\n",
    "    return parts\n",
    "   \n",
    "end\n",
    "\n",
    "function day19_part1(data = read19())\n",
    "    rules, input = data\n",
    "    rules\n",
    "    \n",
    "    counter = 0\n",
    "    for line in input\n",
    "       rule = parse_rules(rules, 0)\n",
    "       occursin(Regex(\"^\" * rule * \"\\$\"), line) && (counter += 1)\n",
    "    end\n",
    "\n",
    "    return counter\n",
    "end\n",
    "\n",
    "\n",
    "\n",
    "@btime day19_part1()"
   ]
  },
  {
   "cell_type": "code",
   "execution_count": null,
   "id": "medical-easter",
   "metadata": {},
   "outputs": [],
   "source": [
    "function day19_part2(data = read19())\n",
    "    rules, input = data\n",
    "    rules\n",
    "    \n",
    "    ## modify rule 8\n",
    "    rules[8] = \"42+\"\n",
    "    \n",
    "    ## quick and dirty fix\n",
    "    # test one to four repetitions of 42 and 31\n",
    "    counter = []\n",
    "    for i in 1:4\n",
    "        rules[11] = \"42{$i} 31{$i}\"\n",
    "        for line in input\n",
    "           rule = parse_rules(rules, 0)\n",
    "           occursin(Regex(\"^\" * rule * \"\\$\"), line) && (append!(counter, [line]))\n",
    "        end\n",
    "    end\n",
    "\n",
    "    return length(unique(counter))\n",
    "end"
   ]
  },
  {
   "cell_type": "code",
   "execution_count": null,
   "id": "innocent-chemistry",
   "metadata": {},
   "outputs": [],
   "source": [
    "@btime day19_part2()"
   ]
  },
  {
   "cell_type": "markdown",
   "id": "numerical-progress",
   "metadata": {},
   "source": [
    "## Day 20"
   ]
  },
  {
   "cell_type": "code",
   "execution_count": null,
   "id": "noble-arctic",
   "metadata": {},
   "outputs": [],
   "source": [
    "using BenchmarkTools\n",
    "function read20()\n",
    "    tiles =  split(strip(read(joinpath(@__DIR__, \"./input/day20.txt\"), String)), \"\\n\\n\")\n",
    "    d = Dict{Int, Array{Bool}}()\n",
    "    for t in tiles\n",
    "       id = match(r\"(\\d+)\", t)[1]\n",
    "       id = parse(Int, id)\n",
    "        \n",
    "        img = split(t, \"\\n\")[2:end]\n",
    "                img = hcat([split(line, \"\") for line in img]...)\n",
    "        img = permutedims(img)\n",
    "        img = img .== \"#\"\n",
    "\n",
    "        \n",
    "        d[id] = img\n",
    "    end\n",
    "    \n",
    "    return d\n",
    "end"
   ]
  },
  {
   "cell_type": "code",
   "execution_count": null,
   "id": "expected-season",
   "metadata": {},
   "outputs": [],
   "source": [
    "function assemble_image_part1(data=read20())\n",
    "    neighbors = Dict()\n",
    "    prod = 1\n",
    "    for (k, v) in data\n",
    "        neighbors[k] = find_neighbars(data, k)\n",
    "        if length(neighbors[k]) == 2\n",
    "            prod *= k\n",
    "        end\n",
    "    end\n",
    "    \n",
    "\n",
    "    return prod\n",
    "    \n",
    "    \n",
    "end\n",
    "\n",
    "function find_neighbars(images, img)\n",
    "    neighbors = Dict()\n",
    "\n",
    "    margins = get_margins(images[img])\n",
    "    for (key, value) in images\n",
    "        margins2 = get_margins(value)\n",
    "        \n",
    "        key == img && continue\n",
    "        \n",
    "        for (k1, v1) in margins\n",
    "           for (k2, v2) in margins2\n",
    "               if v1 == v2\n",
    "                    neighbors[k1] = (key, k2, \"fwd\")\n",
    "                elseif v1 == reverse(v2)\n",
    "                    neighbors[k1] = (key, k2, \"rev\")\n",
    "                end\n",
    "            end\n",
    "        end\n",
    "        \n",
    "    end\n",
    "    \n",
    "    return neighbors\n",
    "end\n",
    "    \n",
    "function get_margins(img)\n",
    "    d = Dict()\n",
    "    d[\"left\"] = img[:,1]\n",
    "    d[\"right\"] = img[:,end]\n",
    "    d[\"top\"] = img[1,:]\n",
    "    d[\"bottom\"] = img[end,:]\n",
    "    return d    \n",
    "end"
   ]
  },
  {
   "cell_type": "code",
   "execution_count": null,
   "id": "according-jacket",
   "metadata": {},
   "outputs": [],
   "source": [
    "assemble_image_part1()"
   ]
  },
  {
   "cell_type": "code",
   "execution_count": null,
   "id": "disabled-score",
   "metadata": {},
   "outputs": [],
   "source": [
    "function monster()\n",
    "   s = \"                  # \n",
    "#    ##    ##    ###\n",
    " #  #  #  #  #  #   \"\n",
    "    img = split(s, \"\\n\")\n",
    "    img = hcat([split(line, \"\") for line in img]...)\n",
    "    img = permutedims(img)\n",
    "    img = img .== \"#\"\n",
    "    return img\n",
    "end\n",
    "\n",
    "function find_neighbars_and_rotate(images, img)\n",
    "    neighbors = Dict()\n",
    "\n",
    "    margins = get_margins(images[img])\n",
    "    for key in keys(images)\n",
    "        \n",
    "        key == img && continue\n",
    "        \n",
    "        for f in 1:2\n",
    "            \n",
    "            for i in 1:4\n",
    "                m = get_margins(images[key])\n",
    "                margins[\"right\"] == m[\"left\"] && (neighbors[\"right\"] = key; @goto next_image)\n",
    "                margins[\"left\"] == m[\"right\"] && (neighbors[\"left\"] = key; @goto next_image)\n",
    "                \n",
    "                margins[\"top\"] == m[\"bottom\"] && (neighbors[\"top\"] = key; @goto next_image)\n",
    "                margins[\"bottom\"] == m[\"top\"] && (neighbors[\"bottom\"] = key; @goto next_image)\n",
    "                images[key] = rotr90(images[key])\n",
    "            end\n",
    "            images[key] = images[key][end:-1:1,:]\n",
    "\n",
    "        end\n",
    "        \n",
    "        @label next_image\n",
    "    end\n",
    "    \n",
    "    return neighbors\n",
    "end"
   ]
  },
  {
   "cell_type": "code",
   "execution_count": null,
   "id": "worth-final",
   "metadata": {},
   "outputs": [],
   "source": [
    "function find_monster(image, monster=monster())\n",
    "    \n",
    "    matches = []\n",
    "        \n",
    "    for x in 1:(size(image)[2] - size(monster)[2])\n",
    "        for y in 1:(size(image)[1] - size(monster)[1])\n",
    "            for i in eachindex(monster)\n",
    "                ym = CartesianIndices(monster)[i][1]\n",
    "                xm = CartesianIndices(monster)[i][2]\n",
    "                if monster[ym,xm] &&  monster[ym,xm] != image[y+ym-1,x+xm-1]  \n",
    "                    @goto next_position\n",
    "                end\n",
    "            end\n",
    "            append!(matches, [Dict('x' => x, 'y' => y)])\n",
    "            \n",
    "            @label next_position\n",
    "        end\n",
    "    end\n",
    "    return matches\n",
    "\n",
    "end"
   ]
  },
  {
   "cell_type": "code",
   "execution_count": null,
   "id": "adjusted-david",
   "metadata": {},
   "outputs": [],
   "source": [
    "function assemble_image_part2(data=read20())\n",
    "    \n",
    "    topleft = 0\n",
    "    for (k, v) in data\n",
    "        neighbors = find_neighbars_and_rotate(data, k)\n",
    "        if !haskey(neighbors, \"top\") && !haskey(neighbors, \"left\")\n",
    "            topleft = k\n",
    "        end\n",
    "    end\n",
    "\n",
    "    # each image is 8x8 with boders (so 8x8 without borders)\n",
    "    # display(size(data[topleft]))\n",
    "    # grid is 12x12, so 12*8 \"pixel\" = 96 pixcel\n",
    "    \n",
    "    grid = Dict()\n",
    "    \n",
    "    grid[[1,1]] = topleft\n",
    "    for i in 2:length(data)\n",
    "        y = fld(i-1, 12) + 1\n",
    "        x = (i-1) % 12 +1\n",
    "        \n",
    "        if x > 1  #find right neighbors\n",
    "            grid[[y, x]] = find_neighbars_and_rotate(data, grid[[y, x-1]])[\"right\"]\n",
    "        else # find below\n",
    "            grid[[y, x]] = find_neighbars_and_rotate(data, grid[[y-1, x]])[\"bottom\"]\n",
    "            #grid[y, x] = neighbors[grid[y-1, x]][\"bottom\"]\n",
    "        end        \n",
    "    end\n",
    "\n",
    "    image = Array{Int}(undef, 96, 96)\n",
    "    for x in 1:12\n",
    "        for y in 1:12\n",
    "           part = data[grid[[y,x]]]\n",
    "           image[1+(y-1)*8:y*8, 1+(x-1)*8:x*8] = part[2:9, 2:9]\n",
    "        end\n",
    "    end\n",
    "    \n",
    "    # just by trying out\n",
    "    image = rot180(image)\n",
    "    matches = find_monster(image)\n",
    "    monst = monster()\n",
    "    \n",
    "    \n",
    "    # loop though all matches\n",
    "    # if # in monster, change image form 1 to 0\n",
    "    # then we can count the remaining 1s\n",
    "    for m in matches\n",
    "        #display(m)\n",
    "       for y in 1:3\n",
    "           for x in 1:20\n",
    "               monst[y,x] && (image[ m['y']+y-1,m['x']+x-1  ] = 0)  \n",
    "            end \n",
    "        end\n",
    "    end\n",
    "    return sum(image)\n",
    "end"
   ]
  },
  {
   "cell_type": "code",
   "execution_count": null,
   "id": "addressed-symbol",
   "metadata": {},
   "outputs": [],
   "source": [
    "@btime assemble_image_part2()"
   ]
  },
  {
   "cell_type": "code",
   "execution_count": null,
   "id": "threatened-saver",
   "metadata": {},
   "outputs": [],
   "source": []
  }
 ],
 "metadata": {
  "kernelspec": {
   "display_name": "Julia 1.5.3",
   "language": "julia",
   "name": "julia-1.5"
  },
  "language_info": {
   "file_extension": ".jl",
   "mimetype": "application/julia",
   "name": "julia",
   "version": "1.5.3"
  }
 },
 "nbformat": 4,
 "nbformat_minor": 5
}
